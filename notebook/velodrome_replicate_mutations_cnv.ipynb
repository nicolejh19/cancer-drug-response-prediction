{
 "cells": [
  {
   "cell_type": "markdown",
   "id": "b12cb3d4",
   "metadata": {},
   "source": [
    "This notebook uses Velodrome with raw mutations and CNV data as input data."
   ]
  },
  {
   "cell_type": "markdown",
   "id": "4ab5ed23",
   "metadata": {},
   "source": [
    "#### Imports"
   ]
  },
  {
   "cell_type": "code",
   "execution_count": 1,
   "id": "620ffcb9",
   "metadata": {},
   "outputs": [],
   "source": [
    "import pandas as pd\n",
    "import numpy as np"
   ]
  },
  {
   "cell_type": "code",
   "execution_count": 2,
   "id": "0aeec283",
   "metadata": {},
   "outputs": [],
   "source": [
    "import sys\n",
    "sys.path.append(\"../src/\")"
   ]
  },
  {
   "cell_type": "code",
   "execution_count": 3,
   "id": "fcd5da88",
   "metadata": {},
   "outputs": [],
   "source": [
    "import datetime\n",
    "import logging\n",
    "import os\n",
    "import time\n",
    "import torch\n",
    "import random"
   ]
  },
  {
   "cell_type": "code",
   "execution_count": 4,
   "id": "7bac9374",
   "metadata": {},
   "outputs": [],
   "source": [
    "from dataset import (\n",
    "    AggCategoricalAnnotatedCellLineDataset,\n",
    "    AggCategoricalAnnotatedPdxDataset,\n",
    "    AggCategoricalAnnotatedTcgaDataset    \n",
    ")"
   ]
  },
  {
   "cell_type": "code",
   "execution_count": 5,
   "id": "5c8660f9",
   "metadata": {},
   "outputs": [],
   "source": [
    "from VelodromeModel import VelodromeTestBedMutCNV"
   ]
  },
  {
   "cell_type": "code",
   "execution_count": 6,
   "id": "19f50bcf",
   "metadata": {},
   "outputs": [],
   "source": [
    "torch.multiprocessing.set_sharing_strategy('file_system')"
   ]
  },
  {
   "cell_type": "markdown",
   "id": "1bc43289",
   "metadata": {},
   "source": [
    "### PACLITAXEL"
   ]
  },
  {
   "cell_type": "code",
   "execution_count": 7,
   "id": "f516e55b",
   "metadata": {},
   "outputs": [],
   "source": [
    "best_parameters = {'ldr': 0.10979723528027535,\n",
    " 'lr': 0.2028807525895536,\n",
    " 'lr1': 0.42832593493163584,\n",
    " 'lr2': 0.20909629627130924,\n",
    " 'wd': 0.0015321156857535244,\n",
    " 'wd1': 0.059937658449634904,\n",
    " 'wd2': 0.04907255297526718,\n",
    " 'bs': 36,\n",
    " 'epoch': 70,\n",
    " 'lam1': 0.2,\n",
    " 'hd': 2,\n",
    " 'gpu': 0,\n",
    " 'seed': 42,\n",
    " 'lam2': 0.8}"
   ]
  },
  {
   "cell_type": "code",
   "execution_count": 8,
   "id": "eaa1e732",
   "metadata": {},
   "outputs": [
    {
     "name": "stdout",
     "output_type": "stream",
     "text": [
      "\n",
      "-------------------- PACLITAXEL --------------------\n",
      "Cell-line dataset for training Predictor 1: (243, 648)\n",
      "Cell-line dataset for training Predictor 2: (243, 648)\n",
      "Total no. of cell-lines for training: 486\n",
      "TCGA dataset for training both Predictors: (460, 648)\n",
      "Total no. of cell-lines for evaluation: 122\n"
     ]
    },
    {
     "name": "stderr",
     "output_type": "stream",
     "text": [
      "/home/nicole/anaconda3/envs/druid/lib/python3.9/site-packages/torch/_tensor.py:586: UserWarning: non-inplace resize is deprecated\n",
      "  warnings.warn(\"non-inplace resize is deprecated\")\n",
      "/home/nicole/code/cancer-drug-response-prediction/notebook/../src/AdaptFuncVelov3.py:159: UserWarning: Implicit dimension choice for softmax has been deprecated. Change the call to include dim=X as an argument.\n",
      "  w_n = torch.nn.functional.softmax(torch.stack(ws), dim=None)\n"
     ]
    },
    {
     "name": "stdout",
     "output_type": "stream",
     "text": [
      "Highest Pearson r achieved during training: 0.3915411319099782\n"
     ]
    }
   ],
   "source": [
    "model_PACLITAXEL = VelodromeTestBedMutCNV('PACLITAXEL')\n",
    "model_PACLITAXEL.train_model(best_parameters)"
   ]
  },
  {
   "cell_type": "code",
   "execution_count": 9,
   "id": "c035d567",
   "metadata": {},
   "outputs": [
    {
     "name": "stdout",
     "output_type": "stream",
     "text": [
      "X: (4766, 648)\n"
     ]
    },
    {
     "name": "stderr",
     "output_type": "stream",
     "text": [
      "/home/nicole/code/cancer-drug-response-prediction/notebook/../src/VelodromeModel.py:207: UserWarning: Implicit dimension choice for softmax has been deprecated. Change the call to include dim=X as an argument.\n",
      "  w_n = torch.nn.functional.softmax(torch.stack(ws), dim=None)\n",
      "/home/nicole/code/cancer-drug-response-prediction/notebook/../src/VelodromeModel.py:211: UserWarning: To copy construct from a tensor, it is recommended to use sourceTensor.clone().detach() or sourceTensor.clone().detach().requires_grad_(True), rather than torch.tensor(sourceTensor).\n",
      "  TX_val = torch.tensor(\n"
     ]
    },
    {
     "data": {
      "text/html": [
       "<div>\n",
       "<style scoped>\n",
       "    .dataframe tbody tr th:only-of-type {\n",
       "        vertical-align: middle;\n",
       "    }\n",
       "\n",
       "    .dataframe tbody tr th {\n",
       "        vertical-align: top;\n",
       "    }\n",
       "\n",
       "    .dataframe thead th {\n",
       "        text-align: right;\n",
       "    }\n",
       "</style>\n",
       "<table border=\"1\" class=\"dataframe\">\n",
       "  <thead>\n",
       "    <tr style=\"text-align: right;\">\n",
       "      <th></th>\n",
       "      <th>drug_name</th>\n",
       "      <th>length_dataset</th>\n",
       "      <th>roc_auc</th>\n",
       "      <th>aupr</th>\n",
       "      <th>spearmanr_correlation</th>\n",
       "      <th>spearmanr_pvalue</th>\n",
       "      <th>pearsonr_correlation</th>\n",
       "      <th>pearsonr_pvalue</th>\n",
       "    </tr>\n",
       "  </thead>\n",
       "  <tbody>\n",
       "    <tr>\n",
       "      <th>0</th>\n",
       "      <td>PACLITAXEL</td>\n",
       "      <td>31</td>\n",
       "      <td>0.570652</td>\n",
       "      <td>0.814376</td>\n",
       "      <td>0.107149</td>\n",
       "      <td>0.566156</td>\n",
       "      <td>0.008668</td>\n",
       "      <td>0.963088</td>\n",
       "    </tr>\n",
       "  </tbody>\n",
       "</table>\n",
       "</div>"
      ],
      "text/plain": [
       "    drug_name  length_dataset   roc_auc      aupr  spearmanr_correlation  \\\n",
       "0  PACLITAXEL              31  0.570652  0.814376               0.107149   \n",
       "\n",
       "   spearmanr_pvalue  pearsonr_correlation  pearsonr_pvalue  \n",
       "0          0.566156              0.008668         0.963088  "
      ]
     },
     "execution_count": 9,
     "metadata": {},
     "output_type": "execute_result"
    }
   ],
   "source": [
    "model_PACLITAXEL.get_velodrome_results_df(AggCategoricalAnnotatedTcgaDataset(is_train=False), 'tcga', True)"
   ]
  },
  {
   "cell_type": "code",
   "execution_count": 10,
   "id": "77d434ad",
   "metadata": {},
   "outputs": [
    {
     "name": "stdout",
     "output_type": "stream",
     "text": [
      "X: (4766, 648)\n"
     ]
    },
    {
     "name": "stderr",
     "output_type": "stream",
     "text": [
      "/home/nicole/code/cancer-drug-response-prediction/notebook/../src/VelodromeModel.py:207: UserWarning: Implicit dimension choice for softmax has been deprecated. Change the call to include dim=X as an argument.\n",
      "  w_n = torch.nn.functional.softmax(torch.stack(ws), dim=None)\n",
      "/home/nicole/code/cancer-drug-response-prediction/notebook/../src/VelodromeModel.py:211: UserWarning: To copy construct from a tensor, it is recommended to use sourceTensor.clone().detach() or sourceTensor.clone().detach().requires_grad_(True), rather than torch.tensor(sourceTensor).\n",
      "  TX_val = torch.tensor(\n"
     ]
    },
    {
     "data": {
      "image/png": "[encoded data removed]",
      "text/plain": [
       "<Figure size 1200x600 with 2 Axes>"
      ]
     },
     "metadata": {},
     "output_type": "display_data"
    }
   ],
   "source": [
    "%matplotlib inline\n",
    "model_PACLITAXEL.get_roc_pr_curves('PACLITAXEL', AggCategoricalAnnotatedTcgaDataset(is_train=False))"
   ]
  },
  {
   "cell_type": "code",
   "execution_count": 11,
   "id": "24a230af",
   "metadata": {},
   "outputs": [
    {
     "name": "stdout",
     "output_type": "stream",
     "text": [
      "X: (178, 648)\n"
     ]
    },
    {
     "name": "stderr",
     "output_type": "stream",
     "text": [
      "/home/nicole/code/cancer-drug-response-prediction/notebook/../src/VelodromeModel.py:207: UserWarning: Implicit dimension choice for softmax has been deprecated. Change the call to include dim=X as an argument.\n",
      "  w_n = torch.nn.functional.softmax(torch.stack(ws), dim=None)\n",
      "/home/nicole/code/cancer-drug-response-prediction/notebook/../src/VelodromeModel.py:211: UserWarning: To copy construct from a tensor, it is recommended to use sourceTensor.clone().detach() or sourceTensor.clone().detach().requires_grad_(True), rather than torch.tensor(sourceTensor).\n",
      "  TX_val = torch.tensor(\n"
     ]
    },
    {
     "name": "stdout",
     "output_type": "stream",
     "text": [
      "Dataset has only 1 class label for PACLITAXEL\n"
     ]
    },
    {
     "name": "stderr",
     "output_type": "stream",
     "text": [
      "/home/nicole/anaconda3/envs/druid/lib/python3.9/site-packages/scipy/stats/stats.py:4484: SpearmanRConstantInputWarning: An input array is constant; the correlation coefficient is not defined.\n",
      "  warnings.warn(SpearmanRConstantInputWarning())\n",
      "/home/nicole/anaconda3/envs/druid/lib/python3.9/site-packages/scipy/stats/stats.py:4023: PearsonRConstantInputWarning: An input array is constant; the correlation coefficient is not defined.\n",
      "  warnings.warn(PearsonRConstantInputWarning())\n",
      "/home/nicole/anaconda3/envs/druid/lib/python3.9/site-packages/sklearn/metrics/_ranking.py:877: UserWarning: No positive class found in y_true, recall is set to one for all thresholds.\n",
      "  warnings.warn(\n"
     ]
    },
    {
     "data": {
      "text/html": [
       "<div>\n",
       "<style scoped>\n",
       "    .dataframe tbody tr th:only-of-type {\n",
       "        vertical-align: middle;\n",
       "    }\n",
       "\n",
       "    .dataframe tbody tr th {\n",
       "        vertical-align: top;\n",
       "    }\n",
       "\n",
       "    .dataframe thead th {\n",
       "        text-align: right;\n",
       "    }\n",
       "</style>\n",
       "<table border=\"1\" class=\"dataframe\">\n",
       "  <thead>\n",
       "    <tr style=\"text-align: right;\">\n",
       "      <th></th>\n",
       "      <th>drug_name</th>\n",
       "      <th>length_dataset</th>\n",
       "      <th>roc_auc</th>\n",
       "      <th>aupr</th>\n",
       "      <th>spearmanr_correlation</th>\n",
       "      <th>spearmanr_pvalue</th>\n",
       "      <th>pearsonr_correlation</th>\n",
       "      <th>pearsonr_pvalue</th>\n",
       "    </tr>\n",
       "  </thead>\n",
       "  <tbody>\n",
       "    <tr>\n",
       "      <th>0</th>\n",
       "      <td>PACLITAXEL</td>\n",
       "      <td>8</td>\n",
       "      <td>NaN</td>\n",
       "      <td>-0.0</td>\n",
       "      <td>NaN</td>\n",
       "      <td>NaN</td>\n",
       "      <td>NaN</td>\n",
       "      <td>NaN</td>\n",
       "    </tr>\n",
       "  </tbody>\n",
       "</table>\n",
       "</div>"
      ],
      "text/plain": [
       "    drug_name  length_dataset  roc_auc  aupr  spearmanr_correlation  \\\n",
       "0  PACLITAXEL               8      NaN  -0.0                    NaN   \n",
       "\n",
       "   spearmanr_pvalue  pearsonr_correlation  pearsonr_pvalue  \n",
       "0               NaN                   NaN              NaN  "
      ]
     },
     "execution_count": 11,
     "metadata": {},
     "output_type": "execute_result"
    }
   ],
   "source": [
    "model_PACLITAXEL.get_velodrome_results_df(AggCategoricalAnnotatedPdxDataset(is_train=None, only_cat_one_drugs=True)) # only 1 class label in test split for each drug"
   ]
  },
  {
   "cell_type": "code",
   "execution_count": 12,
   "id": "a3a129d8",
   "metadata": {},
   "outputs": [
    {
     "name": "stdout",
     "output_type": "stream",
     "text": [
      "X: (692, 648)\n"
     ]
    },
    {
     "name": "stderr",
     "output_type": "stream",
     "text": [
      "/home/nicole/code/cancer-drug-response-prediction/notebook/../src/VelodromeModel.py:207: UserWarning: Implicit dimension choice for softmax has been deprecated. Change the call to include dim=X as an argument.\n",
      "  w_n = torch.nn.functional.softmax(torch.stack(ws), dim=None)\n",
      "/home/nicole/code/cancer-drug-response-prediction/notebook/../src/VelodromeModel.py:211: UserWarning: To copy construct from a tensor, it is recommended to use sourceTensor.clone().detach() or sourceTensor.clone().detach().requires_grad_(True), rather than torch.tensor(sourceTensor).\n",
      "  TX_val = torch.tensor(\n"
     ]
    },
    {
     "data": {
      "text/html": [
       "<div>\n",
       "<style scoped>\n",
       "    .dataframe tbody tr th:only-of-type {\n",
       "        vertical-align: middle;\n",
       "    }\n",
       "\n",
       "    .dataframe tbody tr th {\n",
       "        vertical-align: top;\n",
       "    }\n",
       "\n",
       "    .dataframe thead th {\n",
       "        text-align: right;\n",
       "    }\n",
       "</style>\n",
       "<table border=\"1\" class=\"dataframe\">\n",
       "  <thead>\n",
       "    <tr style=\"text-align: right;\">\n",
       "      <th></th>\n",
       "      <th>drug_name</th>\n",
       "      <th>length_dataset</th>\n",
       "      <th>spearmanr_correlation</th>\n",
       "      <th>spearmanr_pvalue</th>\n",
       "      <th>pearsonr_correlation</th>\n",
       "      <th>pearsonr_pvalue</th>\n",
       "    </tr>\n",
       "  </thead>\n",
       "  <tbody>\n",
       "    <tr>\n",
       "      <th>0</th>\n",
       "      <td>PACLITAXEL</td>\n",
       "      <td>68</td>\n",
       "      <td>0.25935</td>\n",
       "      <td>0.032704</td>\n",
       "      <td>0.413175</td>\n",
       "      <td>0.000462</td>\n",
       "    </tr>\n",
       "  </tbody>\n",
       "</table>\n",
       "</div>"
      ],
      "text/plain": [
       "    drug_name  length_dataset  spearmanr_correlation  spearmanr_pvalue  \\\n",
       "0  PACLITAXEL              68                0.25935          0.032704   \n",
       "\n",
       "   pearsonr_correlation  pearsonr_pvalue  \n",
       "0              0.413175         0.000462  "
      ]
     },
     "execution_count": 12,
     "metadata": {},
     "output_type": "execute_result"
    }
   ],
   "source": [
    "model_PACLITAXEL.get_velodrome_results_df(AggCategoricalAnnotatedCellLineDataset(is_train=False))"
   ]
  },
  {
   "cell_type": "code",
   "execution_count": 13,
   "id": "4ee40354",
   "metadata": {},
   "outputs": [
    {
     "name": "stdout",
     "output_type": "stream",
     "text": [
      "X: (692, 648)\n"
     ]
    },
    {
     "name": "stderr",
     "output_type": "stream",
     "text": [
      "/home/nicole/code/cancer-drug-response-prediction/notebook/../src/VelodromeModel.py:207: UserWarning: Implicit dimension choice for softmax has been deprecated. Change the call to include dim=X as an argument.\n",
      "  w_n = torch.nn.functional.softmax(torch.stack(ws), dim=None)\n",
      "/home/nicole/code/cancer-drug-response-prediction/notebook/../src/VelodromeModel.py:211: UserWarning: To copy construct from a tensor, it is recommended to use sourceTensor.clone().detach() or sourceTensor.clone().detach().requires_grad_(True), rather than torch.tensor(sourceTensor).\n",
      "  TX_val = torch.tensor(\n"
     ]
    },
    {
     "data": {
      "text/html": [
       "<div>\n",
       "<style scoped>\n",
       "    .dataframe tbody tr th:only-of-type {\n",
       "        vertical-align: middle;\n",
       "    }\n",
       "\n",
       "    .dataframe tbody tr th {\n",
       "        vertical-align: top;\n",
       "    }\n",
       "\n",
       "    .dataframe thead th {\n",
       "        text-align: right;\n",
       "    }\n",
       "</style>\n",
       "<table border=\"1\" class=\"dataframe\">\n",
       "  <thead>\n",
       "    <tr style=\"text-align: right;\">\n",
       "      <th></th>\n",
       "      <th>drug_name</th>\n",
       "      <th>length_dataset</th>\n",
       "      <th>spearmanr_correlation</th>\n",
       "      <th>spearmanr_pvalue</th>\n",
       "      <th>pearsonr_correlation</th>\n",
       "      <th>pearsonr_pvalue</th>\n",
       "    </tr>\n",
       "  </thead>\n",
       "  <tbody>\n",
       "    <tr>\n",
       "      <th>0</th>\n",
       "      <td>PACLITAXEL</td>\n",
       "      <td>608</td>\n",
       "      <td>0.221219</td>\n",
       "      <td>3.548803e-08</td>\n",
       "      <td>0.26943</td>\n",
       "      <td>1.426951e-11</td>\n",
       "    </tr>\n",
       "  </tbody>\n",
       "</table>\n",
       "</div>"
      ],
      "text/plain": [
       "    drug_name  length_dataset  spearmanr_correlation  spearmanr_pvalue  \\\n",
       "0  PACLITAXEL             608               0.221219      3.548803e-08   \n",
       "\n",
       "   pearsonr_correlation  pearsonr_pvalue  \n",
       "0               0.26943     1.426951e-11  "
      ]
     },
     "execution_count": 13,
     "metadata": {},
     "output_type": "execute_result"
    }
   ],
   "source": [
    "model_PACLITAXEL.get_velodrome_results_df(AggCategoricalAnnotatedCellLineDataset(is_train=True))"
   ]
  },
  {
   "cell_type": "markdown",
   "id": "38bc0002",
   "metadata": {},
   "source": [
    "### CISPLATIN"
   ]
  },
  {
   "cell_type": "code",
   "execution_count": 14,
   "id": "64b38a7a",
   "metadata": {},
   "outputs": [],
   "source": [
    "best_parameters = {'ldr': 0.4936302324834783,\n",
    " 'lr': 0.0026335446565979616,\n",
    " 'lr1': 0.0029050122339904757,\n",
    " 'lr2': 0.006112427635087397,\n",
    " 'wd': 0.1,\n",
    " 'wd1': 0.13966082949029565,\n",
    " 'wd2': 0.14291465404478265,\n",
    " 'lam1': 0.2,\n",
    " 'bs': 65,\n",
    " 'epoch': 40,\n",
    " 'hd': 2,\n",
    " 'gpu': 0,\n",
    " 'seed': 42,\n",
    " 'lam2': 0.8}"
   ]
  },
  {
   "cell_type": "code",
   "execution_count": 15,
   "id": "6871bad0",
   "metadata": {},
   "outputs": [
    {
     "name": "stdout",
     "output_type": "stream",
     "text": [
      "\n",
      "-------------------- CISPLATIN --------------------\n",
      "Cell-line dataset for training Predictor 1: (193, 648)\n",
      "Cell-line dataset for training Predictor 2: (193, 648)\n",
      "Total no. of cell-lines for training: 386\n",
      "TCGA dataset for training both Predictors: (460, 648)\n",
      "Total no. of cell-lines for evaluation: 97\n"
     ]
    },
    {
     "name": "stderr",
     "output_type": "stream",
     "text": [
      "/home/nicole/anaconda3/envs/druid/lib/python3.9/site-packages/torch/_tensor.py:586: UserWarning: non-inplace resize is deprecated\n",
      "  warnings.warn(\"non-inplace resize is deprecated\")\n",
      "/home/nicole/code/cancer-drug-response-prediction/notebook/../src/AdaptFuncVelov3.py:159: UserWarning: Implicit dimension choice for softmax has been deprecated. Change the call to include dim=X as an argument.\n",
      "  w_n = torch.nn.functional.softmax(torch.stack(ws), dim=None)\n"
     ]
    },
    {
     "name": "stdout",
     "output_type": "stream",
     "text": [
      "Highest Pearson r achieved during training: 0.39680286705843426\n"
     ]
    }
   ],
   "source": [
    "model_CISPLATIN = VelodromeTestBedMutCNV('CISPLATIN')\n",
    "model_CISPLATIN.train_model(best_parameters)"
   ]
  },
  {
   "cell_type": "code",
   "execution_count": 16,
   "id": "1b4a6587",
   "metadata": {},
   "outputs": [
    {
     "name": "stdout",
     "output_type": "stream",
     "text": [
      "X: (4766, 648)\n"
     ]
    },
    {
     "name": "stderr",
     "output_type": "stream",
     "text": [
      "/home/nicole/code/cancer-drug-response-prediction/notebook/../src/VelodromeModel.py:207: UserWarning: Implicit dimension choice for softmax has been deprecated. Change the call to include dim=X as an argument.\n",
      "  w_n = torch.nn.functional.softmax(torch.stack(ws), dim=None)\n",
      "/home/nicole/code/cancer-drug-response-prediction/notebook/../src/VelodromeModel.py:211: UserWarning: To copy construct from a tensor, it is recommended to use sourceTensor.clone().detach() or sourceTensor.clone().detach().requires_grad_(True), rather than torch.tensor(sourceTensor).\n",
      "  TX_val = torch.tensor(\n"
     ]
    },
    {
     "data": {
      "text/html": [
       "<div>\n",
       "<style scoped>\n",
       "    .dataframe tbody tr th:only-of-type {\n",
       "        vertical-align: middle;\n",
       "    }\n",
       "\n",
       "    .dataframe tbody tr th {\n",
       "        vertical-align: top;\n",
       "    }\n",
       "\n",
       "    .dataframe thead th {\n",
       "        text-align: right;\n",
       "    }\n",
       "</style>\n",
       "<table border=\"1\" class=\"dataframe\">\n",
       "  <thead>\n",
       "    <tr style=\"text-align: right;\">\n",
       "      <th></th>\n",
       "      <th>drug_name</th>\n",
       "      <th>length_dataset</th>\n",
       "      <th>roc_auc</th>\n",
       "      <th>aupr</th>\n",
       "      <th>spearmanr_correlation</th>\n",
       "      <th>spearmanr_pvalue</th>\n",
       "      <th>pearsonr_correlation</th>\n",
       "      <th>pearsonr_pvalue</th>\n",
       "    </tr>\n",
       "  </thead>\n",
       "  <tbody>\n",
       "    <tr>\n",
       "      <th>0</th>\n",
       "      <td>CISPLATIN</td>\n",
       "      <td>36</td>\n",
       "      <td>0.518519</td>\n",
       "      <td>0.814913</td>\n",
       "      <td>0.027789</td>\n",
       "      <td>0.87219</td>\n",
       "      <td>0.040942</td>\n",
       "      <td>0.812593</td>\n",
       "    </tr>\n",
       "  </tbody>\n",
       "</table>\n",
       "</div>"
      ],
      "text/plain": [
       "   drug_name  length_dataset   roc_auc      aupr  spearmanr_correlation  \\\n",
       "0  CISPLATIN              36  0.518519  0.814913               0.027789   \n",
       "\n",
       "   spearmanr_pvalue  pearsonr_correlation  pearsonr_pvalue  \n",
       "0           0.87219              0.040942         0.812593  "
      ]
     },
     "execution_count": 16,
     "metadata": {},
     "output_type": "execute_result"
    }
   ],
   "source": [
    "model_CISPLATIN.get_velodrome_results_df(AggCategoricalAnnotatedTcgaDataset(is_train=False), 'tcga', True)"
   ]
  },
  {
   "cell_type": "code",
   "execution_count": 17,
   "id": "1adfb89e",
   "metadata": {},
   "outputs": [
    {
     "name": "stdout",
     "output_type": "stream",
     "text": [
      "X: (4766, 648)\n"
     ]
    },
    {
     "name": "stderr",
     "output_type": "stream",
     "text": [
      "/home/nicole/code/cancer-drug-response-prediction/notebook/../src/VelodromeModel.py:207: UserWarning: Implicit dimension choice for softmax has been deprecated. Change the call to include dim=X as an argument.\n",
      "  w_n = torch.nn.functional.softmax(torch.stack(ws), dim=None)\n",
      "/home/nicole/code/cancer-drug-response-prediction/notebook/../src/VelodromeModel.py:211: UserWarning: To copy construct from a tensor, it is recommended to use sourceTensor.clone().detach() or sourceTensor.clone().detach().requires_grad_(True), rather than torch.tensor(sourceTensor).\n",
      "  TX_val = torch.tensor(\n"
     ]
    },
    {
     "data": {
      "image/png": "[encoded data removed]",
      "text/plain": [
       "<Figure size 1200x600 with 2 Axes>"
      ]
     },
     "metadata": {},
     "output_type": "display_data"
    }
   ],
   "source": [
    "%matplotlib inline\n",
    "model_CISPLATIN.get_roc_pr_curves('CISPLATIN', AggCategoricalAnnotatedTcgaDataset(is_train=False))"
   ]
  },
  {
   "cell_type": "code",
   "execution_count": 18,
   "id": "f7d74eef",
   "metadata": {},
   "outputs": [
    {
     "name": "stdout",
     "output_type": "stream",
     "text": [
      "X: (692, 648)\n"
     ]
    },
    {
     "name": "stderr",
     "output_type": "stream",
     "text": [
      "/home/nicole/code/cancer-drug-response-prediction/notebook/../src/VelodromeModel.py:207: UserWarning: Implicit dimension choice for softmax has been deprecated. Change the call to include dim=X as an argument.\n",
      "  w_n = torch.nn.functional.softmax(torch.stack(ws), dim=None)\n",
      "/home/nicole/code/cancer-drug-response-prediction/notebook/../src/VelodromeModel.py:211: UserWarning: To copy construct from a tensor, it is recommended to use sourceTensor.clone().detach() or sourceTensor.clone().detach().requires_grad_(True), rather than torch.tensor(sourceTensor).\n",
      "  TX_val = torch.tensor(\n"
     ]
    },
    {
     "data": {
      "text/html": [
       "<div>\n",
       "<style scoped>\n",
       "    .dataframe tbody tr th:only-of-type {\n",
       "        vertical-align: middle;\n",
       "    }\n",
       "\n",
       "    .dataframe tbody tr th {\n",
       "        vertical-align: top;\n",
       "    }\n",
       "\n",
       "    .dataframe thead th {\n",
       "        text-align: right;\n",
       "    }\n",
       "</style>\n",
       "<table border=\"1\" class=\"dataframe\">\n",
       "  <thead>\n",
       "    <tr style=\"text-align: right;\">\n",
       "      <th></th>\n",
       "      <th>drug_name</th>\n",
       "      <th>length_dataset</th>\n",
       "      <th>spearmanr_correlation</th>\n",
       "      <th>spearmanr_pvalue</th>\n",
       "      <th>pearsonr_correlation</th>\n",
       "      <th>pearsonr_pvalue</th>\n",
       "    </tr>\n",
       "  </thead>\n",
       "  <tbody>\n",
       "    <tr>\n",
       "      <th>0</th>\n",
       "      <td>CISPLATIN</td>\n",
       "      <td>54</td>\n",
       "      <td>0.297351</td>\n",
       "      <td>0.028992</td>\n",
       "      <td>0.312552</td>\n",
       "      <td>0.021391</td>\n",
       "    </tr>\n",
       "  </tbody>\n",
       "</table>\n",
       "</div>"
      ],
      "text/plain": [
       "   drug_name  length_dataset  spearmanr_correlation  spearmanr_pvalue  \\\n",
       "0  CISPLATIN              54               0.297351          0.028992   \n",
       "\n",
       "   pearsonr_correlation  pearsonr_pvalue  \n",
       "0              0.312552         0.021391  "
      ]
     },
     "execution_count": 18,
     "metadata": {},
     "output_type": "execute_result"
    }
   ],
   "source": [
    "model_CISPLATIN.get_velodrome_results_df(AggCategoricalAnnotatedCellLineDataset(is_train=False))"
   ]
  },
  {
   "cell_type": "code",
   "execution_count": 19,
   "id": "1ecc20cd",
   "metadata": {},
   "outputs": [
    {
     "name": "stdout",
     "output_type": "stream",
     "text": [
      "X: (692, 648)\n"
     ]
    },
    {
     "name": "stderr",
     "output_type": "stream",
     "text": [
      "/home/nicole/code/cancer-drug-response-prediction/notebook/../src/VelodromeModel.py:207: UserWarning: Implicit dimension choice for softmax has been deprecated. Change the call to include dim=X as an argument.\n",
      "  w_n = torch.nn.functional.softmax(torch.stack(ws), dim=None)\n",
      "/home/nicole/code/cancer-drug-response-prediction/notebook/../src/VelodromeModel.py:211: UserWarning: To copy construct from a tensor, it is recommended to use sourceTensor.clone().detach() or sourceTensor.clone().detach().requires_grad_(True), rather than torch.tensor(sourceTensor).\n",
      "  TX_val = torch.tensor(\n"
     ]
    },
    {
     "data": {
      "text/html": [
       "<div>\n",
       "<style scoped>\n",
       "    .dataframe tbody tr th:only-of-type {\n",
       "        vertical-align: middle;\n",
       "    }\n",
       "\n",
       "    .dataframe tbody tr th {\n",
       "        vertical-align: top;\n",
       "    }\n",
       "\n",
       "    .dataframe thead th {\n",
       "        text-align: right;\n",
       "    }\n",
       "</style>\n",
       "<table border=\"1\" class=\"dataframe\">\n",
       "  <thead>\n",
       "    <tr style=\"text-align: right;\">\n",
       "      <th></th>\n",
       "      <th>drug_name</th>\n",
       "      <th>length_dataset</th>\n",
       "      <th>spearmanr_correlation</th>\n",
       "      <th>spearmanr_pvalue</th>\n",
       "      <th>pearsonr_correlation</th>\n",
       "      <th>pearsonr_pvalue</th>\n",
       "    </tr>\n",
       "  </thead>\n",
       "  <tbody>\n",
       "    <tr>\n",
       "      <th>0</th>\n",
       "      <td>CISPLATIN</td>\n",
       "      <td>483</td>\n",
       "      <td>0.353553</td>\n",
       "      <td>1.145610e-15</td>\n",
       "      <td>0.380388</td>\n",
       "      <td>4.470203e-18</td>\n",
       "    </tr>\n",
       "  </tbody>\n",
       "</table>\n",
       "</div>"
      ],
      "text/plain": [
       "   drug_name  length_dataset  spearmanr_correlation  spearmanr_pvalue  \\\n",
       "0  CISPLATIN             483               0.353553      1.145610e-15   \n",
       "\n",
       "   pearsonr_correlation  pearsonr_pvalue  \n",
       "0              0.380388     4.470203e-18  "
      ]
     },
     "execution_count": 19,
     "metadata": {},
     "output_type": "execute_result"
    }
   ],
   "source": [
    "model_CISPLATIN.get_velodrome_results_df(AggCategoricalAnnotatedCellLineDataset(is_train=True))"
   ]
  },
  {
   "cell_type": "markdown",
   "id": "3013d402",
   "metadata": {},
   "source": [
    "### 5-FLUOROURACIL"
   ]
  },
  {
   "cell_type": "code",
   "execution_count": 20,
   "id": "d6f789ef",
   "metadata": {},
   "outputs": [],
   "source": [
    "best_parameters = {'ldr': 0.35231256242157577,\n",
    " 'lr': 0.00913077175900679,\n",
    " 'lr1': 0.0057433852025299045,\n",
    " 'lr2': 0.0016607477422395413,\n",
    " 'wd': 0.2163852098183689,\n",
    " 'wd1': 0.16560754622680685,\n",
    " 'wd2': 0.148958768110298,\n",
    " 'lam1': 0.4,\n",
    " 'bs': 59,\n",
    " 'epoch': 37,\n",
    " 'hd': 2,\n",
    " 'gpu': 0,\n",
    " 'seed': 42,\n",
    " 'lam2': 0.6}"
   ]
  },
  {
   "cell_type": "code",
   "execution_count": 21,
   "id": "2e3c0391",
   "metadata": {},
   "outputs": [
    {
     "name": "stdout",
     "output_type": "stream",
     "text": [
      "\n",
      "-------------------- 5-FLUOROURACIL --------------------\n",
      "Cell-line dataset for training Predictor 1: (211, 648)\n",
      "Cell-line dataset for training Predictor 2: (211, 648)\n",
      "Total no. of cell-lines for training: 422\n",
      "TCGA dataset for training both Predictors: (460, 648)\n",
      "Total no. of cell-lines for evaluation: 106\n"
     ]
    },
    {
     "name": "stderr",
     "output_type": "stream",
     "text": [
      "/home/nicole/anaconda3/envs/druid/lib/python3.9/site-packages/torch/_tensor.py:586: UserWarning: non-inplace resize is deprecated\n",
      "  warnings.warn(\"non-inplace resize is deprecated\")\n",
      "/home/nicole/code/cancer-drug-response-prediction/notebook/../src/AdaptFuncVelov3.py:159: UserWarning: Implicit dimension choice for softmax has been deprecated. Change the call to include dim=X as an argument.\n",
      "  w_n = torch.nn.functional.softmax(torch.stack(ws), dim=None)\n"
     ]
    },
    {
     "name": "stdout",
     "output_type": "stream",
     "text": [
      "Highest Pearson r achieved during training: 0.2534581965878098\n"
     ]
    }
   ],
   "source": [
    "model_5_FLUOROURACIL = VelodromeTestBedMutCNV('5-FLUOROURACIL')\n",
    "model_5_FLUOROURACIL.train_model(best_parameters)"
   ]
  },
  {
   "cell_type": "code",
   "execution_count": 22,
   "id": "75e513cd",
   "metadata": {},
   "outputs": [
    {
     "name": "stdout",
     "output_type": "stream",
     "text": [
      "X: (4766, 648)\n"
     ]
    },
    {
     "name": "stderr",
     "output_type": "stream",
     "text": [
      "/home/nicole/code/cancer-drug-response-prediction/notebook/../src/VelodromeModel.py:207: UserWarning: Implicit dimension choice for softmax has been deprecated. Change the call to include dim=X as an argument.\n",
      "  w_n = torch.nn.functional.softmax(torch.stack(ws), dim=None)\n",
      "/home/nicole/code/cancer-drug-response-prediction/notebook/../src/VelodromeModel.py:211: UserWarning: To copy construct from a tensor, it is recommended to use sourceTensor.clone().detach() or sourceTensor.clone().detach().requires_grad_(True), rather than torch.tensor(sourceTensor).\n",
      "  TX_val = torch.tensor(\n"
     ]
    },
    {
     "data": {
      "text/html": [
       "<div>\n",
       "<style scoped>\n",
       "    .dataframe tbody tr th:only-of-type {\n",
       "        vertical-align: middle;\n",
       "    }\n",
       "\n",
       "    .dataframe tbody tr th {\n",
       "        vertical-align: top;\n",
       "    }\n",
       "\n",
       "    .dataframe thead th {\n",
       "        text-align: right;\n",
       "    }\n",
       "</style>\n",
       "<table border=\"1\" class=\"dataframe\">\n",
       "  <thead>\n",
       "    <tr style=\"text-align: right;\">\n",
       "      <th></th>\n",
       "      <th>drug_name</th>\n",
       "      <th>length_dataset</th>\n",
       "      <th>roc_auc</th>\n",
       "      <th>aupr</th>\n",
       "      <th>spearmanr_correlation</th>\n",
       "      <th>spearmanr_pvalue</th>\n",
       "      <th>pearsonr_correlation</th>\n",
       "      <th>pearsonr_pvalue</th>\n",
       "    </tr>\n",
       "  </thead>\n",
       "  <tbody>\n",
       "    <tr>\n",
       "      <th>0</th>\n",
       "      <td>5-FLUOROURACIL</td>\n",
       "      <td>21</td>\n",
       "      <td>0.691176</td>\n",
       "      <td>0.906351</td>\n",
       "      <td>0.260347</td>\n",
       "      <td>0.25437</td>\n",
       "      <td>0.236741</td>\n",
       "      <td>0.301494</td>\n",
       "    </tr>\n",
       "  </tbody>\n",
       "</table>\n",
       "</div>"
      ],
      "text/plain": [
       "        drug_name  length_dataset   roc_auc      aupr  spearmanr_correlation  \\\n",
       "0  5-FLUOROURACIL              21  0.691176  0.906351               0.260347   \n",
       "\n",
       "   spearmanr_pvalue  pearsonr_correlation  pearsonr_pvalue  \n",
       "0           0.25437              0.236741         0.301494  "
      ]
     },
     "execution_count": 22,
     "metadata": {},
     "output_type": "execute_result"
    }
   ],
   "source": [
    "model_5_FLUOROURACIL.get_velodrome_results_df(AggCategoricalAnnotatedTcgaDataset(is_train=False), 'tcga', True)"
   ]
  },
  {
   "cell_type": "code",
   "execution_count": 23,
   "id": "2fbeb93b",
   "metadata": {},
   "outputs": [
    {
     "name": "stdout",
     "output_type": "stream",
     "text": [
      "X: (4766, 648)\n"
     ]
    },
    {
     "name": "stderr",
     "output_type": "stream",
     "text": [
      "/home/nicole/code/cancer-drug-response-prediction/notebook/../src/VelodromeModel.py:207: UserWarning: Implicit dimension choice for softmax has been deprecated. Change the call to include dim=X as an argument.\n",
      "  w_n = torch.nn.functional.softmax(torch.stack(ws), dim=None)\n",
      "/home/nicole/code/cancer-drug-response-prediction/notebook/../src/VelodromeModel.py:211: UserWarning: To copy construct from a tensor, it is recommended to use sourceTensor.clone().detach() or sourceTensor.clone().detach().requires_grad_(True), rather than torch.tensor(sourceTensor).\n",
      "  TX_val = torch.tensor(\n"
     ]
    },
    {
     "data": {
      "image/png": "[encoded data removed]",
      "text/plain": [
       "<Figure size 1200x600 with 2 Axes>"
      ]
     },
     "metadata": {},
     "output_type": "display_data"
    }
   ],
   "source": [
    "%matplotlib inline\n",
    "model_5_FLUOROURACIL.get_roc_pr_curves('5-FLUOROURACIL', AggCategoricalAnnotatedTcgaDataset(is_train=False))"
   ]
  },
  {
   "cell_type": "code",
   "execution_count": 24,
   "id": "5a1f7358",
   "metadata": {},
   "outputs": [
    {
     "name": "stdout",
     "output_type": "stream",
     "text": [
      "X: (692, 648)\n"
     ]
    },
    {
     "name": "stderr",
     "output_type": "stream",
     "text": [
      "/home/nicole/code/cancer-drug-response-prediction/notebook/../src/VelodromeModel.py:207: UserWarning: Implicit dimension choice for softmax has been deprecated. Change the call to include dim=X as an argument.\n",
      "  w_n = torch.nn.functional.softmax(torch.stack(ws), dim=None)\n",
      "/home/nicole/code/cancer-drug-response-prediction/notebook/../src/VelodromeModel.py:211: UserWarning: To copy construct from a tensor, it is recommended to use sourceTensor.clone().detach() or sourceTensor.clone().detach().requires_grad_(True), rather than torch.tensor(sourceTensor).\n",
      "  TX_val = torch.tensor(\n"
     ]
    },
    {
     "data": {
      "text/html": [
       "<div>\n",
       "<style scoped>\n",
       "    .dataframe tbody tr th:only-of-type {\n",
       "        vertical-align: middle;\n",
       "    }\n",
       "\n",
       "    .dataframe tbody tr th {\n",
       "        vertical-align: top;\n",
       "    }\n",
       "\n",
       "    .dataframe thead th {\n",
       "        text-align: right;\n",
       "    }\n",
       "</style>\n",
       "<table border=\"1\" class=\"dataframe\">\n",
       "  <thead>\n",
       "    <tr style=\"text-align: right;\">\n",
       "      <th></th>\n",
       "      <th>drug_name</th>\n",
       "      <th>length_dataset</th>\n",
       "      <th>spearmanr_correlation</th>\n",
       "      <th>spearmanr_pvalue</th>\n",
       "      <th>pearsonr_correlation</th>\n",
       "      <th>pearsonr_pvalue</th>\n",
       "    </tr>\n",
       "  </thead>\n",
       "  <tbody>\n",
       "    <tr>\n",
       "      <th>0</th>\n",
       "      <td>5-FLUOROURACIL</td>\n",
       "      <td>61</td>\n",
       "      <td>0.001428</td>\n",
       "      <td>0.991287</td>\n",
       "      <td>0.067228</td>\n",
       "      <td>0.606701</td>\n",
       "    </tr>\n",
       "  </tbody>\n",
       "</table>\n",
       "</div>"
      ],
      "text/plain": [
       "        drug_name  length_dataset  spearmanr_correlation  spearmanr_pvalue  \\\n",
       "0  5-FLUOROURACIL              61               0.001428          0.991287   \n",
       "\n",
       "   pearsonr_correlation  pearsonr_pvalue  \n",
       "0              0.067228         0.606701  "
      ]
     },
     "execution_count": 24,
     "metadata": {},
     "output_type": "execute_result"
    }
   ],
   "source": [
    "model_5_FLUOROURACIL.get_velodrome_results_df(AggCategoricalAnnotatedCellLineDataset(is_train=False))"
   ]
  },
  {
   "cell_type": "code",
   "execution_count": 25,
   "id": "b039052d",
   "metadata": {},
   "outputs": [
    {
     "name": "stdout",
     "output_type": "stream",
     "text": [
      "X: (692, 648)\n"
     ]
    },
    {
     "name": "stderr",
     "output_type": "stream",
     "text": [
      "/home/nicole/code/cancer-drug-response-prediction/notebook/../src/VelodromeModel.py:207: UserWarning: Implicit dimension choice for softmax has been deprecated. Change the call to include dim=X as an argument.\n",
      "  w_n = torch.nn.functional.softmax(torch.stack(ws), dim=None)\n",
      "/home/nicole/code/cancer-drug-response-prediction/notebook/../src/VelodromeModel.py:211: UserWarning: To copy construct from a tensor, it is recommended to use sourceTensor.clone().detach() or sourceTensor.clone().detach().requires_grad_(True), rather than torch.tensor(sourceTensor).\n",
      "  TX_val = torch.tensor(\n"
     ]
    },
    {
     "data": {
      "text/html": [
       "<div>\n",
       "<style scoped>\n",
       "    .dataframe tbody tr th:only-of-type {\n",
       "        vertical-align: middle;\n",
       "    }\n",
       "\n",
       "    .dataframe tbody tr th {\n",
       "        vertical-align: top;\n",
       "    }\n",
       "\n",
       "    .dataframe thead th {\n",
       "        text-align: right;\n",
       "    }\n",
       "</style>\n",
       "<table border=\"1\" class=\"dataframe\">\n",
       "  <thead>\n",
       "    <tr style=\"text-align: right;\">\n",
       "      <th></th>\n",
       "      <th>drug_name</th>\n",
       "      <th>length_dataset</th>\n",
       "      <th>spearmanr_correlation</th>\n",
       "      <th>spearmanr_pvalue</th>\n",
       "      <th>pearsonr_correlation</th>\n",
       "      <th>pearsonr_pvalue</th>\n",
       "    </tr>\n",
       "  </thead>\n",
       "  <tbody>\n",
       "    <tr>\n",
       "      <th>0</th>\n",
       "      <td>5-FLUOROURACIL</td>\n",
       "      <td>528</td>\n",
       "      <td>0.23435</td>\n",
       "      <td>5.087299e-08</td>\n",
       "      <td>0.32439</td>\n",
       "      <td>2.107069e-14</td>\n",
       "    </tr>\n",
       "  </tbody>\n",
       "</table>\n",
       "</div>"
      ],
      "text/plain": [
       "        drug_name  length_dataset  spearmanr_correlation  spearmanr_pvalue  \\\n",
       "0  5-FLUOROURACIL             528                0.23435      5.087299e-08   \n",
       "\n",
       "   pearsonr_correlation  pearsonr_pvalue  \n",
       "0               0.32439     2.107069e-14  "
      ]
     },
     "execution_count": 25,
     "metadata": {},
     "output_type": "execute_result"
    }
   ],
   "source": [
    "model_5_FLUOROURACIL.get_velodrome_results_df(AggCategoricalAnnotatedCellLineDataset(is_train=True))"
   ]
  },
  {
   "cell_type": "markdown",
   "id": "6942739c",
   "metadata": {},
   "source": [
    "### CYCLOPHOSPHAMIDE"
   ]
  },
  {
   "cell_type": "code",
   "execution_count": 26,
   "id": "3e65e54c",
   "metadata": {},
   "outputs": [],
   "source": [
    "best_parameters = {'ldr': 0.14527533992659303,\n",
    " 'lr': 0.2731954574552365,\n",
    " 'lr1': 0.4706582827176899,\n",
    " 'lr2': 0.3438729131510481,\n",
    " 'wd': 0.0060796212274581195,\n",
    " 'wd1': 0.03301850587548688,\n",
    " 'wd2': 0.03581677219020203,\n",
    " 'lam1': 0.4,\n",
    " 'bs': 57,\n",
    " 'epoch': 66,\n",
    " 'hd': 2,\n",
    " 'gpu': 0,\n",
    " 'seed': 42,\n",
    " 'lam2': 0.6}"
   ]
  },
  {
   "cell_type": "code",
   "execution_count": 27,
   "id": "135884e1",
   "metadata": {},
   "outputs": [
    {
     "name": "stdout",
     "output_type": "stream",
     "text": [
      "\n",
      "-------------------- CYCLOPHOSPHAMIDE --------------------\n",
      "Cell-line dataset for training Predictor 1: (231, 648)\n",
      "Cell-line dataset for training Predictor 2: (232, 648)\n",
      "Total no. of cell-lines for training: 463\n",
      "TCGA dataset for training both Predictors: (460, 648)\n",
      "Total no. of cell-lines for evaluation: 116\n"
     ]
    },
    {
     "name": "stderr",
     "output_type": "stream",
     "text": [
      "/home/nicole/anaconda3/envs/druid/lib/python3.9/site-packages/torch/_tensor.py:586: UserWarning: non-inplace resize is deprecated\n",
      "  warnings.warn(\"non-inplace resize is deprecated\")\n",
      "/home/nicole/code/cancer-drug-response-prediction/notebook/../src/AdaptFuncVelov3.py:159: UserWarning: Implicit dimension choice for softmax has been deprecated. Change the call to include dim=X as an argument.\n",
      "  w_n = torch.nn.functional.softmax(torch.stack(ws), dim=None)\n"
     ]
    },
    {
     "name": "stdout",
     "output_type": "stream",
     "text": [
      "Highest Pearson r achieved during training: 0.3077042905599391\n"
     ]
    }
   ],
   "source": [
    "model_CYCLOPHOSPHAMIDE = VelodromeTestBedMutCNV('CYCLOPHOSPHAMIDE')\n",
    "model_CYCLOPHOSPHAMIDE.train_model(best_parameters)"
   ]
  },
  {
   "cell_type": "code",
   "execution_count": 28,
   "id": "2d29dac1",
   "metadata": {
    "scrolled": true
   },
   "outputs": [
    {
     "name": "stdout",
     "output_type": "stream",
     "text": [
      "X: (4766, 648)\n"
     ]
    },
    {
     "name": "stderr",
     "output_type": "stream",
     "text": [
      "/home/nicole/code/cancer-drug-response-prediction/notebook/../src/VelodromeModel.py:207: UserWarning: Implicit dimension choice for softmax has been deprecated. Change the call to include dim=X as an argument.\n",
      "  w_n = torch.nn.functional.softmax(torch.stack(ws), dim=None)\n",
      "/home/nicole/code/cancer-drug-response-prediction/notebook/../src/VelodromeModel.py:211: UserWarning: To copy construct from a tensor, it is recommended to use sourceTensor.clone().detach() or sourceTensor.clone().detach().requires_grad_(True), rather than torch.tensor(sourceTensor).\n",
      "  TX_val = torch.tensor(\n"
     ]
    },
    {
     "data": {
      "text/html": [
       "<div>\n",
       "<style scoped>\n",
       "    .dataframe tbody tr th:only-of-type {\n",
       "        vertical-align: middle;\n",
       "    }\n",
       "\n",
       "    .dataframe tbody tr th {\n",
       "        vertical-align: top;\n",
       "    }\n",
       "\n",
       "    .dataframe thead th {\n",
       "        text-align: right;\n",
       "    }\n",
       "</style>\n",
       "<table border=\"1\" class=\"dataframe\">\n",
       "  <thead>\n",
       "    <tr style=\"text-align: right;\">\n",
       "      <th></th>\n",
       "      <th>drug_name</th>\n",
       "      <th>length_dataset</th>\n",
       "      <th>roc_auc</th>\n",
       "      <th>aupr</th>\n",
       "      <th>spearmanr_correlation</th>\n",
       "      <th>spearmanr_pvalue</th>\n",
       "      <th>pearsonr_correlation</th>\n",
       "      <th>pearsonr_pvalue</th>\n",
       "    </tr>\n",
       "  </thead>\n",
       "  <tbody>\n",
       "    <tr>\n",
       "      <th>0</th>\n",
       "      <td>CYCLOPHOSPHAMIDE</td>\n",
       "      <td>19</td>\n",
       "      <td>0.794118</td>\n",
       "      <td>0.97643</td>\n",
       "      <td>0.313112</td>\n",
       "      <td>0.191797</td>\n",
       "      <td>0.200958</td>\n",
       "      <td>0.409397</td>\n",
       "    </tr>\n",
       "  </tbody>\n",
       "</table>\n",
       "</div>"
      ],
      "text/plain": [
       "          drug_name  length_dataset   roc_auc     aupr  spearmanr_correlation  \\\n",
       "0  CYCLOPHOSPHAMIDE              19  0.794118  0.97643               0.313112   \n",
       "\n",
       "   spearmanr_pvalue  pearsonr_correlation  pearsonr_pvalue  \n",
       "0          0.191797              0.200958         0.409397  "
      ]
     },
     "execution_count": 28,
     "metadata": {},
     "output_type": "execute_result"
    }
   ],
   "source": [
    "model_CYCLOPHOSPHAMIDE.get_velodrome_results_df(AggCategoricalAnnotatedTcgaDataset(is_train=False), 'tcga', True)"
   ]
  },
  {
   "cell_type": "code",
   "execution_count": 29,
   "id": "94257a7f",
   "metadata": {},
   "outputs": [
    {
     "name": "stdout",
     "output_type": "stream",
     "text": [
      "X: (4766, 648)\n"
     ]
    },
    {
     "name": "stderr",
     "output_type": "stream",
     "text": [
      "/home/nicole/code/cancer-drug-response-prediction/notebook/../src/VelodromeModel.py:207: UserWarning: Implicit dimension choice for softmax has been deprecated. Change the call to include dim=X as an argument.\n",
      "  w_n = torch.nn.functional.softmax(torch.stack(ws), dim=None)\n",
      "/home/nicole/code/cancer-drug-response-prediction/notebook/../src/VelodromeModel.py:211: UserWarning: To copy construct from a tensor, it is recommended to use sourceTensor.clone().detach() or sourceTensor.clone().detach().requires_grad_(True), rather than torch.tensor(sourceTensor).\n",
      "  TX_val = torch.tensor(\n"
     ]
    },
    {
     "data": {
      "image/png": "[encoded data removed]",
      "text/plain": [
       "<Figure size 1200x600 with 2 Axes>"
      ]
     },
     "metadata": {},
     "output_type": "display_data"
    }
   ],
   "source": [
    "%matplotlib inline\n",
    "model_CYCLOPHOSPHAMIDE.get_roc_pr_curves('CYCLOPHOSPHAMIDE', AggCategoricalAnnotatedTcgaDataset(is_train=False))"
   ]
  },
  {
   "cell_type": "code",
   "execution_count": 30,
   "id": "f7a36889",
   "metadata": {},
   "outputs": [
    {
     "name": "stdout",
     "output_type": "stream",
     "text": [
      "X: (692, 648)\n"
     ]
    },
    {
     "name": "stderr",
     "output_type": "stream",
     "text": [
      "/home/nicole/code/cancer-drug-response-prediction/notebook/../src/VelodromeModel.py:207: UserWarning: Implicit dimension choice for softmax has been deprecated. Change the call to include dim=X as an argument.\n",
      "  w_n = torch.nn.functional.softmax(torch.stack(ws), dim=None)\n",
      "/home/nicole/code/cancer-drug-response-prediction/notebook/../src/VelodromeModel.py:211: UserWarning: To copy construct from a tensor, it is recommended to use sourceTensor.clone().detach() or sourceTensor.clone().detach().requires_grad_(True), rather than torch.tensor(sourceTensor).\n",
      "  TX_val = torch.tensor(\n"
     ]
    },
    {
     "data": {
      "text/html": [
       "<div>\n",
       "<style scoped>\n",
       "    .dataframe tbody tr th:only-of-type {\n",
       "        vertical-align: middle;\n",
       "    }\n",
       "\n",
       "    .dataframe tbody tr th {\n",
       "        vertical-align: top;\n",
       "    }\n",
       "\n",
       "    .dataframe thead th {\n",
       "        text-align: right;\n",
       "    }\n",
       "</style>\n",
       "<table border=\"1\" class=\"dataframe\">\n",
       "  <thead>\n",
       "    <tr style=\"text-align: right;\">\n",
       "      <th></th>\n",
       "      <th>drug_name</th>\n",
       "      <th>length_dataset</th>\n",
       "      <th>spearmanr_correlation</th>\n",
       "      <th>spearmanr_pvalue</th>\n",
       "      <th>pearsonr_correlation</th>\n",
       "      <th>pearsonr_pvalue</th>\n",
       "    </tr>\n",
       "  </thead>\n",
       "  <tbody>\n",
       "    <tr>\n",
       "      <th>0</th>\n",
       "      <td>CYCLOPHOSPHAMIDE</td>\n",
       "      <td>66</td>\n",
       "      <td>0.234777</td>\n",
       "      <td>0.057761</td>\n",
       "      <td>0.260125</td>\n",
       "      <td>0.034914</td>\n",
       "    </tr>\n",
       "  </tbody>\n",
       "</table>\n",
       "</div>"
      ],
      "text/plain": [
       "          drug_name  length_dataset  spearmanr_correlation  spearmanr_pvalue  \\\n",
       "0  CYCLOPHOSPHAMIDE              66               0.234777          0.057761   \n",
       "\n",
       "   pearsonr_correlation  pearsonr_pvalue  \n",
       "0              0.260125         0.034914  "
      ]
     },
     "execution_count": 30,
     "metadata": {},
     "output_type": "execute_result"
    }
   ],
   "source": [
    "model_CYCLOPHOSPHAMIDE.get_velodrome_results_df(AggCategoricalAnnotatedCellLineDataset(is_train=False))"
   ]
  },
  {
   "cell_type": "code",
   "execution_count": 31,
   "id": "ba65e67b",
   "metadata": {},
   "outputs": [
    {
     "name": "stdout",
     "output_type": "stream",
     "text": [
      "X: (692, 648)\n"
     ]
    },
    {
     "name": "stderr",
     "output_type": "stream",
     "text": [
      "/home/nicole/code/cancer-drug-response-prediction/notebook/../src/VelodromeModel.py:207: UserWarning: Implicit dimension choice for softmax has been deprecated. Change the call to include dim=X as an argument.\n",
      "  w_n = torch.nn.functional.softmax(torch.stack(ws), dim=None)\n",
      "/home/nicole/code/cancer-drug-response-prediction/notebook/../src/VelodromeModel.py:211: UserWarning: To copy construct from a tensor, it is recommended to use sourceTensor.clone().detach() or sourceTensor.clone().detach().requires_grad_(True), rather than torch.tensor(sourceTensor).\n",
      "  TX_val = torch.tensor(\n"
     ]
    },
    {
     "data": {
      "text/html": [
       "<div>\n",
       "<style scoped>\n",
       "    .dataframe tbody tr th:only-of-type {\n",
       "        vertical-align: middle;\n",
       "    }\n",
       "\n",
       "    .dataframe tbody tr th {\n",
       "        vertical-align: top;\n",
       "    }\n",
       "\n",
       "    .dataframe thead th {\n",
       "        text-align: right;\n",
       "    }\n",
       "</style>\n",
       "<table border=\"1\" class=\"dataframe\">\n",
       "  <thead>\n",
       "    <tr style=\"text-align: right;\">\n",
       "      <th></th>\n",
       "      <th>drug_name</th>\n",
       "      <th>length_dataset</th>\n",
       "      <th>spearmanr_correlation</th>\n",
       "      <th>spearmanr_pvalue</th>\n",
       "      <th>pearsonr_correlation</th>\n",
       "      <th>pearsonr_pvalue</th>\n",
       "    </tr>\n",
       "  </thead>\n",
       "  <tbody>\n",
       "    <tr>\n",
       "      <th>0</th>\n",
       "      <td>CYCLOPHOSPHAMIDE</td>\n",
       "      <td>579</td>\n",
       "      <td>0.172271</td>\n",
       "      <td>0.000031</td>\n",
       "      <td>0.313624</td>\n",
       "      <td>1.109753e-14</td>\n",
       "    </tr>\n",
       "  </tbody>\n",
       "</table>\n",
       "</div>"
      ],
      "text/plain": [
       "          drug_name  length_dataset  spearmanr_correlation  spearmanr_pvalue  \\\n",
       "0  CYCLOPHOSPHAMIDE             579               0.172271          0.000031   \n",
       "\n",
       "   pearsonr_correlation  pearsonr_pvalue  \n",
       "0              0.313624     1.109753e-14  "
      ]
     },
     "execution_count": 31,
     "metadata": {},
     "output_type": "execute_result"
    }
   ],
   "source": [
    "model_CYCLOPHOSPHAMIDE.get_velodrome_results_df(AggCategoricalAnnotatedCellLineDataset(is_train=True))"
   ]
  },
  {
   "cell_type": "markdown",
   "id": "79c462ca",
   "metadata": {},
   "source": [
    "### GEMCITABINE"
   ]
  },
  {
   "cell_type": "code",
   "execution_count": 32,
   "id": "57dfd6ee",
   "metadata": {},
   "outputs": [],
   "source": [
    "best_parameters = {'ldr': 0.1,\n",
    " 'lr': 0.01,\n",
    " 'lr1': 0.005,\n",
    " 'lr2': 0.05,\n",
    " 'wd': 0.0001,\n",
    " 'wd1': 0.005,\n",
    " 'wd2': 0.01,\n",
    " 'lam1': 0.005,\n",
    " 'bs': 17,\n",
    " 'hd': 2,\n",
    " 'epoch': 10,\n",
    " 'gpu': 0,\n",
    " 'seed': 42}"
   ]
  },
  {
   "cell_type": "code",
   "execution_count": 33,
   "id": "ccb6643a",
   "metadata": {
    "scrolled": true
   },
   "outputs": [
    {
     "name": "stdout",
     "output_type": "stream",
     "text": [
      "\n",
      "-------------------- GEMCITABINE --------------------\n",
      "Cell-line dataset for training Predictor 1: (193, 648)\n",
      "Cell-line dataset for training Predictor 2: (193, 648)\n",
      "Total no. of cell-lines for training: 386\n",
      "TCGA dataset for training both Predictors: (460, 648)\n",
      "Total no. of cell-lines for evaluation: 97\n"
     ]
    },
    {
     "name": "stderr",
     "output_type": "stream",
     "text": [
      "/home/nicole/anaconda3/envs/druid/lib/python3.9/site-packages/torch/_tensor.py:586: UserWarning: non-inplace resize is deprecated\n",
      "  warnings.warn(\"non-inplace resize is deprecated\")\n",
      "/home/nicole/code/cancer-drug-response-prediction/notebook/../src/AdaptFuncVelov3.py:159: UserWarning: Implicit dimension choice for softmax has been deprecated. Change the call to include dim=X as an argument.\n",
      "  w_n = torch.nn.functional.softmax(torch.stack(ws), dim=None)\n"
     ]
    },
    {
     "name": "stdout",
     "output_type": "stream",
     "text": [
      "Highest Pearson r achieved during training: -0.15895388398185376\n"
     ]
    }
   ],
   "source": [
    "model_GEMCITABINE = VelodromeTestBedMutCNV('GEMCITABINE')\n",
    "model_GEMCITABINE.train_model(best_parameters)"
   ]
  },
  {
   "cell_type": "code",
   "execution_count": 34,
   "id": "adca0b0a",
   "metadata": {},
   "outputs": [
    {
     "name": "stdout",
     "output_type": "stream",
     "text": [
      "X: (4766, 648)\n"
     ]
    },
    {
     "name": "stderr",
     "output_type": "stream",
     "text": [
      "/home/nicole/code/cancer-drug-response-prediction/notebook/../src/VelodromeModel.py:207: UserWarning: Implicit dimension choice for softmax has been deprecated. Change the call to include dim=X as an argument.\n",
      "  w_n = torch.nn.functional.softmax(torch.stack(ws), dim=None)\n",
      "/home/nicole/code/cancer-drug-response-prediction/notebook/../src/VelodromeModel.py:211: UserWarning: To copy construct from a tensor, it is recommended to use sourceTensor.clone().detach() or sourceTensor.clone().detach().requires_grad_(True), rather than torch.tensor(sourceTensor).\n",
      "  TX_val = torch.tensor(\n"
     ]
    },
    {
     "data": {
      "text/html": [
       "<div>\n",
       "<style scoped>\n",
       "    .dataframe tbody tr th:only-of-type {\n",
       "        vertical-align: middle;\n",
       "    }\n",
       "\n",
       "    .dataframe tbody tr th {\n",
       "        vertical-align: top;\n",
       "    }\n",
       "\n",
       "    .dataframe thead th {\n",
       "        text-align: right;\n",
       "    }\n",
       "</style>\n",
       "<table border=\"1\" class=\"dataframe\">\n",
       "  <thead>\n",
       "    <tr style=\"text-align: right;\">\n",
       "      <th></th>\n",
       "      <th>drug_name</th>\n",
       "      <th>length_dataset</th>\n",
       "      <th>roc_auc</th>\n",
       "      <th>aupr</th>\n",
       "      <th>spearmanr_correlation</th>\n",
       "      <th>spearmanr_pvalue</th>\n",
       "      <th>pearsonr_correlation</th>\n",
       "      <th>pearsonr_pvalue</th>\n",
       "    </tr>\n",
       "  </thead>\n",
       "  <tbody>\n",
       "    <tr>\n",
       "      <th>0</th>\n",
       "      <td>GEMCITABINE</td>\n",
       "      <td>18</td>\n",
       "      <td>0.703704</td>\n",
       "      <td>0.757546</td>\n",
       "      <td>0.353371</td>\n",
       "      <td>0.150294</td>\n",
       "      <td>0.377986</td>\n",
       "      <td>0.121968</td>\n",
       "    </tr>\n",
       "  </tbody>\n",
       "</table>\n",
       "</div>"
      ],
      "text/plain": [
       "     drug_name  length_dataset   roc_auc      aupr  spearmanr_correlation  \\\n",
       "0  GEMCITABINE              18  0.703704  0.757546               0.353371   \n",
       "\n",
       "   spearmanr_pvalue  pearsonr_correlation  pearsonr_pvalue  \n",
       "0          0.150294              0.377986         0.121968  "
      ]
     },
     "execution_count": 34,
     "metadata": {},
     "output_type": "execute_result"
    }
   ],
   "source": [
    "model_GEMCITABINE.get_velodrome_results_df(AggCategoricalAnnotatedTcgaDataset(is_train=False), 'tcga', True)"
   ]
  },
  {
   "cell_type": "code",
   "execution_count": 35,
   "id": "b1024da6",
   "metadata": {},
   "outputs": [
    {
     "name": "stdout",
     "output_type": "stream",
     "text": [
      "X: (4766, 648)\n"
     ]
    },
    {
     "name": "stderr",
     "output_type": "stream",
     "text": [
      "/home/nicole/code/cancer-drug-response-prediction/notebook/../src/VelodromeModel.py:207: UserWarning: Implicit dimension choice for softmax has been deprecated. Change the call to include dim=X as an argument.\n",
      "  w_n = torch.nn.functional.softmax(torch.stack(ws), dim=None)\n",
      "/home/nicole/code/cancer-drug-response-prediction/notebook/../src/VelodromeModel.py:211: UserWarning: To copy construct from a tensor, it is recommended to use sourceTensor.clone().detach() or sourceTensor.clone().detach().requires_grad_(True), rather than torch.tensor(sourceTensor).\n",
      "  TX_val = torch.tensor(\n"
     ]
    },
    {
     "data": {
      "image/png": "[encoded data removed]",
      "text/plain": [
       "<Figure size 1200x600 with 2 Axes>"
      ]
     },
     "metadata": {},
     "output_type": "display_data"
    }
   ],
   "source": [
    "%matplotlib inline\n",
    "model_GEMCITABINE.get_roc_pr_curves('GEMCITABINE', AggCategoricalAnnotatedTcgaDataset(is_train=False))"
   ]
  },
  {
   "cell_type": "code",
   "execution_count": 36,
   "id": "0a732f37",
   "metadata": {},
   "outputs": [
    {
     "name": "stdout",
     "output_type": "stream",
     "text": [
      "X: (692, 648)\n"
     ]
    },
    {
     "name": "stderr",
     "output_type": "stream",
     "text": [
      "/home/nicole/code/cancer-drug-response-prediction/notebook/../src/VelodromeModel.py:207: UserWarning: Implicit dimension choice for softmax has been deprecated. Change the call to include dim=X as an argument.\n",
      "  w_n = torch.nn.functional.softmax(torch.stack(ws), dim=None)\n",
      "/home/nicole/code/cancer-drug-response-prediction/notebook/../src/VelodromeModel.py:211: UserWarning: To copy construct from a tensor, it is recommended to use sourceTensor.clone().detach() or sourceTensor.clone().detach().requires_grad_(True), rather than torch.tensor(sourceTensor).\n",
      "  TX_val = torch.tensor(\n"
     ]
    },
    {
     "data": {
      "text/html": [
       "<div>\n",
       "<style scoped>\n",
       "    .dataframe tbody tr th:only-of-type {\n",
       "        vertical-align: middle;\n",
       "    }\n",
       "\n",
       "    .dataframe tbody tr th {\n",
       "        vertical-align: top;\n",
       "    }\n",
       "\n",
       "    .dataframe thead th {\n",
       "        text-align: right;\n",
       "    }\n",
       "</style>\n",
       "<table border=\"1\" class=\"dataframe\">\n",
       "  <thead>\n",
       "    <tr style=\"text-align: right;\">\n",
       "      <th></th>\n",
       "      <th>drug_name</th>\n",
       "      <th>length_dataset</th>\n",
       "      <th>spearmanr_correlation</th>\n",
       "      <th>spearmanr_pvalue</th>\n",
       "      <th>pearsonr_correlation</th>\n",
       "      <th>pearsonr_pvalue</th>\n",
       "    </tr>\n",
       "  </thead>\n",
       "  <tbody>\n",
       "    <tr>\n",
       "      <th>0</th>\n",
       "      <td>GEMCITABINE</td>\n",
       "      <td>54</td>\n",
       "      <td>-0.407204</td>\n",
       "      <td>0.002244</td>\n",
       "      <td>-0.295722</td>\n",
       "      <td>0.029926</td>\n",
       "    </tr>\n",
       "  </tbody>\n",
       "</table>\n",
       "</div>"
      ],
      "text/plain": [
       "     drug_name  length_dataset  spearmanr_correlation  spearmanr_pvalue  \\\n",
       "0  GEMCITABINE              54              -0.407204          0.002244   \n",
       "\n",
       "   pearsonr_correlation  pearsonr_pvalue  \n",
       "0             -0.295722         0.029926  "
      ]
     },
     "execution_count": 36,
     "metadata": {},
     "output_type": "execute_result"
    }
   ],
   "source": [
    "model_GEMCITABINE.get_velodrome_results_df(AggCategoricalAnnotatedCellLineDataset(is_train=False))"
   ]
  },
  {
   "cell_type": "code",
   "execution_count": 37,
   "id": "a597c6b6",
   "metadata": {},
   "outputs": [
    {
     "name": "stdout",
     "output_type": "stream",
     "text": [
      "X: (692, 648)\n"
     ]
    },
    {
     "name": "stderr",
     "output_type": "stream",
     "text": [
      "/home/nicole/code/cancer-drug-response-prediction/notebook/../src/VelodromeModel.py:207: UserWarning: Implicit dimension choice for softmax has been deprecated. Change the call to include dim=X as an argument.\n",
      "  w_n = torch.nn.functional.softmax(torch.stack(ws), dim=None)\n",
      "/home/nicole/code/cancer-drug-response-prediction/notebook/../src/VelodromeModel.py:211: UserWarning: To copy construct from a tensor, it is recommended to use sourceTensor.clone().detach() or sourceTensor.clone().detach().requires_grad_(True), rather than torch.tensor(sourceTensor).\n",
      "  TX_val = torch.tensor(\n"
     ]
    },
    {
     "data": {
      "text/html": [
       "<div>\n",
       "<style scoped>\n",
       "    .dataframe tbody tr th:only-of-type {\n",
       "        vertical-align: middle;\n",
       "    }\n",
       "\n",
       "    .dataframe tbody tr th {\n",
       "        vertical-align: top;\n",
       "    }\n",
       "\n",
       "    .dataframe thead th {\n",
       "        text-align: right;\n",
       "    }\n",
       "</style>\n",
       "<table border=\"1\" class=\"dataframe\">\n",
       "  <thead>\n",
       "    <tr style=\"text-align: right;\">\n",
       "      <th></th>\n",
       "      <th>drug_name</th>\n",
       "      <th>length_dataset</th>\n",
       "      <th>spearmanr_correlation</th>\n",
       "      <th>spearmanr_pvalue</th>\n",
       "      <th>pearsonr_correlation</th>\n",
       "      <th>pearsonr_pvalue</th>\n",
       "    </tr>\n",
       "  </thead>\n",
       "  <tbody>\n",
       "    <tr>\n",
       "      <th>0</th>\n",
       "      <td>GEMCITABINE</td>\n",
       "      <td>483</td>\n",
       "      <td>0.110364</td>\n",
       "      <td>0.01524</td>\n",
       "      <td>0.237973</td>\n",
       "      <td>1.205476e-07</td>\n",
       "    </tr>\n",
       "  </tbody>\n",
       "</table>\n",
       "</div>"
      ],
      "text/plain": [
       "     drug_name  length_dataset  spearmanr_correlation  spearmanr_pvalue  \\\n",
       "0  GEMCITABINE             483               0.110364           0.01524   \n",
       "\n",
       "   pearsonr_correlation  pearsonr_pvalue  \n",
       "0              0.237973     1.205476e-07  "
      ]
     },
     "execution_count": 37,
     "metadata": {},
     "output_type": "execute_result"
    }
   ],
   "source": [
    "model_GEMCITABINE.get_velodrome_results_df(AggCategoricalAnnotatedCellLineDataset(is_train=True))"
   ]
  }
 ],
 "metadata": {
  "kernelspec": {
   "display_name": "Python 3 (ipykernel)",
   "language": "python",
   "name": "python3"
  },
  "language_info": {
   "codemirror_mode": {
    "name": "ipython",
    "version": 3
   },
   "file_extension": ".py",
   "mimetype": "text/x-python",
   "name": "python",
   "nbconvert_exporter": "python",
   "pygments_lexer": "ipython3",
   "version": "3.9.12"
  }
 },
 "nbformat": 4,
 "nbformat_minor": 5
}
