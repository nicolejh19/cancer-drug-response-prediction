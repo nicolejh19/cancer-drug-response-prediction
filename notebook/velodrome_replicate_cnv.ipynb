{
 "cells": [
  {
   "cell_type": "markdown",
   "id": "b12cb3d4",
   "metadata": {},
   "source": [
    "This notebook uses the Velodrome architecture with CNV data as input data.\n",
    "\n",
    "Velodrome reference: https://www.nature.com/articles/s42256-021-00408-w"
   ]
  },
  {
   "cell_type": "markdown",
   "id": "4ab5ed23",
   "metadata": {},
   "source": [
    "#### Imports"
   ]
  },
  {
   "cell_type": "code",
   "execution_count": 1,
   "id": "620ffcb9",
   "metadata": {},
   "outputs": [],
   "source": [
    "import pandas as pd\n",
    "import numpy as np"
   ]
  },
  {
   "cell_type": "code",
   "execution_count": 2,
   "id": "0aeec283",
   "metadata": {},
   "outputs": [],
   "source": [
    "import sys\n",
    "\n",
    "sys.path.append(\"../../vae_zinb_reprn/\")\n",
    "sys.path.append(\"../src/\")"
   ]
  },
  {
   "cell_type": "code",
   "execution_count": 3,
   "id": "fcd5da88",
   "metadata": {},
   "outputs": [],
   "source": [
    "import datetime\n",
    "import logging\n",
    "import os\n",
    "import time\n",
    "import torch\n",
    "import random"
   ]
  },
  {
   "cell_type": "code",
   "execution_count": 4,
   "id": "9f54b0a3",
   "metadata": {},
   "outputs": [],
   "source": [
    "from dataset import (\n",
    "    AggCategoricalAnnotatedCellLineDataset,\n",
    "    AggCategoricalAnnotatedPdxDataset,\n",
    "    AggCategoricalAnnotatedTcgaDataset    \n",
    ")"
   ]
  },
  {
   "cell_type": "code",
   "execution_count": 5,
   "id": "aa1807c3",
   "metadata": {},
   "outputs": [],
   "source": [
    "from VelodromeModel import VelodromeTestBedCNV"
   ]
  },
  {
   "cell_type": "code",
   "execution_count": 6,
   "id": "19f50bcf",
   "metadata": {},
   "outputs": [],
   "source": [
    "torch.multiprocessing.set_sharing_strategy('file_system')"
   ]
  },
  {
   "cell_type": "markdown",
   "id": "288fd126",
   "metadata": {},
   "source": [
    "### PACLITAXEL"
   ]
  },
  {
   "cell_type": "code",
   "execution_count": 7,
   "id": "f114d5ed",
   "metadata": {},
   "outputs": [],
   "source": [
    "best_parameters = {'ldr': 0.16667340393178165,\n",
    " 'lr': 0.199186170110479,\n",
    " 'lr1': 0.034169258074834945,\n",
    " 'lr2': 0.4677709839679301,\n",
    " 'wd': 0.02884325820952654,\n",
    " 'wd1': 0.08661143336445093,\n",
    " 'wd2': 0.049682230371981856,\n",
    " 'bs': 47,\n",
    " 'epoch': 53,\n",
    " 'lam1': 0.4,\n",
    " 'hd': 2,\n",
    " 'gpu': 0,\n",
    " 'seed': 42,\n",
    " 'lam2': 0.6}"
   ]
  },
  {
   "cell_type": "code",
   "execution_count": 8,
   "id": "1e31ee04",
   "metadata": {},
   "outputs": [
    {
     "name": "stdout",
     "output_type": "stream",
     "text": [
      "\n",
      "-------------------- PACLITAXEL --------------------\n",
      "Cell-line dataset for training Predictor 1: (243, 324)\n",
      "Cell-line dataset for training Predictor 2: (243, 324)\n",
      "Total no. of cell-lines for training: 486\n",
      "TCGA dataset for training both Predictors: (460, 324)\n",
      "Total no. of cell-lines for evaluation: 122\n"
     ]
    },
    {
     "name": "stderr",
     "output_type": "stream",
     "text": [
      "/home/nicole/anaconda3/envs/druid/lib/python3.9/site-packages/torch/_tensor.py:586: UserWarning: non-inplace resize is deprecated\n",
      "  warnings.warn(\"non-inplace resize is deprecated\")\n",
      "/home/nicole/code/cancer-drug-response-prediction/notebook/../src/AdaptFuncVelov3.py:159: UserWarning: Implicit dimension choice for softmax has been deprecated. Change the call to include dim=X as an argument.\n",
      "  w_n = torch.nn.functional.softmax(torch.stack(ws), dim=None)\n"
     ]
    },
    {
     "name": "stdout",
     "output_type": "stream",
     "text": [
      "Highest Pearson r achieved during training: 0.44394185483229337\n"
     ]
    }
   ],
   "source": [
    "model_PACLITAXEL = VelodromeTestBedCNV('PACLITAXEL')\n",
    "model_PACLITAXEL.train_model(best_parameters)"
   ]
  },
  {
   "cell_type": "code",
   "execution_count": 9,
   "id": "20b20f30",
   "metadata": {},
   "outputs": [
    {
     "name": "stderr",
     "output_type": "stream",
     "text": [
      "/home/nicole/code/cancer-drug-response-prediction/notebook/../src/VelodromeModel.py:541: UserWarning: Implicit dimension choice for softmax has been deprecated. Change the call to include dim=X as an argument.\n",
      "  w_n = torch.nn.functional.softmax(torch.stack(ws), dim=None)\n",
      "/home/nicole/code/cancer-drug-response-prediction/notebook/../src/VelodromeModel.py:545: UserWarning: To copy construct from a tensor, it is recommended to use sourceTensor.clone().detach() or sourceTensor.clone().detach().requires_grad_(True), rather than torch.tensor(sourceTensor).\n",
      "  TX_val = torch.tensor(\n"
     ]
    },
    {
     "data": {
      "text/html": [
       "<div>\n",
       "<style scoped>\n",
       "    .dataframe tbody tr th:only-of-type {\n",
       "        vertical-align: middle;\n",
       "    }\n",
       "\n",
       "    .dataframe tbody tr th {\n",
       "        vertical-align: top;\n",
       "    }\n",
       "\n",
       "    .dataframe thead th {\n",
       "        text-align: right;\n",
       "    }\n",
       "</style>\n",
       "<table border=\"1\" class=\"dataframe\">\n",
       "  <thead>\n",
       "    <tr style=\"text-align: right;\">\n",
       "      <th></th>\n",
       "      <th>drug_name</th>\n",
       "      <th>length_dataset</th>\n",
       "      <th>roc_auc</th>\n",
       "      <th>aupr</th>\n",
       "      <th>spearmanr_correlation</th>\n",
       "      <th>spearmanr_pvalue</th>\n",
       "      <th>pearsonr_correlation</th>\n",
       "      <th>pearsonr_pvalue</th>\n",
       "    </tr>\n",
       "  </thead>\n",
       "  <tbody>\n",
       "    <tr>\n",
       "      <th>0</th>\n",
       "      <td>PACLITAXEL</td>\n",
       "      <td>31</td>\n",
       "      <td>0.663043</td>\n",
       "      <td>0.881171</td>\n",
       "      <td>0.247268</td>\n",
       "      <td>0.179892</td>\n",
       "      <td>0.265503</td>\n",
       "      <td>0.148862</td>\n",
       "    </tr>\n",
       "  </tbody>\n",
       "</table>\n",
       "</div>"
      ],
      "text/plain": [
       "    drug_name  length_dataset   roc_auc      aupr  spearmanr_correlation  \\\n",
       "0  PACLITAXEL              31  0.663043  0.881171               0.247268   \n",
       "\n",
       "   spearmanr_pvalue  pearsonr_correlation  pearsonr_pvalue  \n",
       "0          0.179892              0.265503         0.148862  "
      ]
     },
     "execution_count": 9,
     "metadata": {},
     "output_type": "execute_result"
    }
   ],
   "source": [
    "model_PACLITAXEL.get_velodrome_results_df(AggCategoricalAnnotatedTcgaDataset(is_train=False), 'tcga', True)"
   ]
  },
  {
   "cell_type": "code",
   "execution_count": 10,
   "id": "a8fa6560",
   "metadata": {},
   "outputs": [
    {
     "name": "stderr",
     "output_type": "stream",
     "text": [
      "/home/nicole/code/cancer-drug-response-prediction/notebook/../src/VelodromeModel.py:541: UserWarning: Implicit dimension choice for softmax has been deprecated. Change the call to include dim=X as an argument.\n",
      "  w_n = torch.nn.functional.softmax(torch.stack(ws), dim=None)\n",
      "/home/nicole/code/cancer-drug-response-prediction/notebook/../src/VelodromeModel.py:545: UserWarning: To copy construct from a tensor, it is recommended to use sourceTensor.clone().detach() or sourceTensor.clone().detach().requires_grad_(True), rather than torch.tensor(sourceTensor).\n",
      "  TX_val = torch.tensor(\n"
     ]
    },
    {
     "data": {
      "image/png": "[encoded data removed]",
      "text/plain": [
       "<Figure size 1200x600 with 2 Axes>"
      ]
     },
     "metadata": {},
     "output_type": "display_data"
    }
   ],
   "source": [
    "%matplotlib inline\n",
    "model_PACLITAXEL.get_roc_pr_curves('PACLITAXEL', AggCategoricalAnnotatedTcgaDataset(is_train=False))"
   ]
  },
  {
   "cell_type": "code",
   "execution_count": 11,
   "id": "113ab580",
   "metadata": {},
   "outputs": [
    {
     "name": "stderr",
     "output_type": "stream",
     "text": [
      "/home/nicole/code/cancer-drug-response-prediction/notebook/../src/VelodromeModel.py:541: UserWarning: Implicit dimension choice for softmax has been deprecated. Change the call to include dim=X as an argument.\n",
      "  w_n = torch.nn.functional.softmax(torch.stack(ws), dim=None)\n",
      "/home/nicole/code/cancer-drug-response-prediction/notebook/../src/VelodromeModel.py:545: UserWarning: To copy construct from a tensor, it is recommended to use sourceTensor.clone().detach() or sourceTensor.clone().detach().requires_grad_(True), rather than torch.tensor(sourceTensor).\n",
      "  TX_val = torch.tensor(\n"
     ]
    },
    {
     "name": "stdout",
     "output_type": "stream",
     "text": [
      "Dataset has only 1 class label for PACLITAXEL\n"
     ]
    },
    {
     "name": "stderr",
     "output_type": "stream",
     "text": [
      "/home/nicole/anaconda3/envs/druid/lib/python3.9/site-packages/scipy/stats/stats.py:4484: SpearmanRConstantInputWarning: An input array is constant; the correlation coefficient is not defined.\n",
      "  warnings.warn(SpearmanRConstantInputWarning())\n",
      "/home/nicole/anaconda3/envs/druid/lib/python3.9/site-packages/scipy/stats/stats.py:4023: PearsonRConstantInputWarning: An input array is constant; the correlation coefficient is not defined.\n",
      "  warnings.warn(PearsonRConstantInputWarning())\n",
      "/home/nicole/anaconda3/envs/druid/lib/python3.9/site-packages/sklearn/metrics/_ranking.py:877: UserWarning: No positive class found in y_true, recall is set to one for all thresholds.\n",
      "  warnings.warn(\n"
     ]
    },
    {
     "data": {
      "text/html": [
       "<div>\n",
       "<style scoped>\n",
       "    .dataframe tbody tr th:only-of-type {\n",
       "        vertical-align: middle;\n",
       "    }\n",
       "\n",
       "    .dataframe tbody tr th {\n",
       "        vertical-align: top;\n",
       "    }\n",
       "\n",
       "    .dataframe thead th {\n",
       "        text-align: right;\n",
       "    }\n",
       "</style>\n",
       "<table border=\"1\" class=\"dataframe\">\n",
       "  <thead>\n",
       "    <tr style=\"text-align: right;\">\n",
       "      <th></th>\n",
       "      <th>drug_name</th>\n",
       "      <th>length_dataset</th>\n",
       "      <th>roc_auc</th>\n",
       "      <th>aupr</th>\n",
       "      <th>spearmanr_correlation</th>\n",
       "      <th>spearmanr_pvalue</th>\n",
       "      <th>pearsonr_correlation</th>\n",
       "      <th>pearsonr_pvalue</th>\n",
       "    </tr>\n",
       "  </thead>\n",
       "  <tbody>\n",
       "    <tr>\n",
       "      <th>0</th>\n",
       "      <td>PACLITAXEL</td>\n",
       "      <td>8</td>\n",
       "      <td>NaN</td>\n",
       "      <td>-0.0</td>\n",
       "      <td>NaN</td>\n",
       "      <td>NaN</td>\n",
       "      <td>NaN</td>\n",
       "      <td>NaN</td>\n",
       "    </tr>\n",
       "  </tbody>\n",
       "</table>\n",
       "</div>"
      ],
      "text/plain": [
       "    drug_name  length_dataset  roc_auc  aupr  spearmanr_correlation  \\\n",
       "0  PACLITAXEL               8      NaN  -0.0                    NaN   \n",
       "\n",
       "   spearmanr_pvalue  pearsonr_correlation  pearsonr_pvalue  \n",
       "0               NaN                   NaN              NaN  "
      ]
     },
     "execution_count": 11,
     "metadata": {},
     "output_type": "execute_result"
    }
   ],
   "source": [
    "model_PACLITAXEL.get_velodrome_results_df(AggCategoricalAnnotatedPdxDataset(is_train=None, only_cat_one_drugs=True)) # only 1 class label in test split for each drug"
   ]
  },
  {
   "cell_type": "code",
   "execution_count": 12,
   "id": "32165dbc",
   "metadata": {},
   "outputs": [
    {
     "name": "stderr",
     "output_type": "stream",
     "text": [
      "/home/nicole/code/cancer-drug-response-prediction/notebook/../src/VelodromeModel.py:541: UserWarning: Implicit dimension choice for softmax has been deprecated. Change the call to include dim=X as an argument.\n",
      "  w_n = torch.nn.functional.softmax(torch.stack(ws), dim=None)\n",
      "/home/nicole/code/cancer-drug-response-prediction/notebook/../src/VelodromeModel.py:545: UserWarning: To copy construct from a tensor, it is recommended to use sourceTensor.clone().detach() or sourceTensor.clone().detach().requires_grad_(True), rather than torch.tensor(sourceTensor).\n",
      "  TX_val = torch.tensor(\n"
     ]
    },
    {
     "data": {
      "text/html": [
       "<div>\n",
       "<style scoped>\n",
       "    .dataframe tbody tr th:only-of-type {\n",
       "        vertical-align: middle;\n",
       "    }\n",
       "\n",
       "    .dataframe tbody tr th {\n",
       "        vertical-align: top;\n",
       "    }\n",
       "\n",
       "    .dataframe thead th {\n",
       "        text-align: right;\n",
       "    }\n",
       "</style>\n",
       "<table border=\"1\" class=\"dataframe\">\n",
       "  <thead>\n",
       "    <tr style=\"text-align: right;\">\n",
       "      <th></th>\n",
       "      <th>drug_name</th>\n",
       "      <th>length_dataset</th>\n",
       "      <th>spearmanr_correlation</th>\n",
       "      <th>spearmanr_pvalue</th>\n",
       "      <th>pearsonr_correlation</th>\n",
       "      <th>pearsonr_pvalue</th>\n",
       "    </tr>\n",
       "  </thead>\n",
       "  <tbody>\n",
       "    <tr>\n",
       "      <th>0</th>\n",
       "      <td>PACLITAXEL</td>\n",
       "      <td>68</td>\n",
       "      <td>0.497614</td>\n",
       "      <td>0.000016</td>\n",
       "      <td>0.500013</td>\n",
       "      <td>0.000014</td>\n",
       "    </tr>\n",
       "  </tbody>\n",
       "</table>\n",
       "</div>"
      ],
      "text/plain": [
       "    drug_name  length_dataset  spearmanr_correlation  spearmanr_pvalue  \\\n",
       "0  PACLITAXEL              68               0.497614          0.000016   \n",
       "\n",
       "   pearsonr_correlation  pearsonr_pvalue  \n",
       "0              0.500013         0.000014  "
      ]
     },
     "execution_count": 12,
     "metadata": {},
     "output_type": "execute_result"
    }
   ],
   "source": [
    "model_PACLITAXEL.get_velodrome_results_df(AggCategoricalAnnotatedCellLineDataset(is_train=False))"
   ]
  },
  {
   "cell_type": "code",
   "execution_count": 13,
   "id": "d374d382",
   "metadata": {
    "scrolled": false
   },
   "outputs": [
    {
     "name": "stderr",
     "output_type": "stream",
     "text": [
      "/home/nicole/code/cancer-drug-response-prediction/notebook/../src/VelodromeModel.py:541: UserWarning: Implicit dimension choice for softmax has been deprecated. Change the call to include dim=X as an argument.\n",
      "  w_n = torch.nn.functional.softmax(torch.stack(ws), dim=None)\n",
      "/home/nicole/code/cancer-drug-response-prediction/notebook/../src/VelodromeModel.py:545: UserWarning: To copy construct from a tensor, it is recommended to use sourceTensor.clone().detach() or sourceTensor.clone().detach().requires_grad_(True), rather than torch.tensor(sourceTensor).\n",
      "  TX_val = torch.tensor(\n"
     ]
    },
    {
     "data": {
      "text/html": [
       "<div>\n",
       "<style scoped>\n",
       "    .dataframe tbody tr th:only-of-type {\n",
       "        vertical-align: middle;\n",
       "    }\n",
       "\n",
       "    .dataframe tbody tr th {\n",
       "        vertical-align: top;\n",
       "    }\n",
       "\n",
       "    .dataframe thead th {\n",
       "        text-align: right;\n",
       "    }\n",
       "</style>\n",
       "<table border=\"1\" class=\"dataframe\">\n",
       "  <thead>\n",
       "    <tr style=\"text-align: right;\">\n",
       "      <th></th>\n",
       "      <th>drug_name</th>\n",
       "      <th>length_dataset</th>\n",
       "      <th>spearmanr_correlation</th>\n",
       "      <th>spearmanr_pvalue</th>\n",
       "      <th>pearsonr_correlation</th>\n",
       "      <th>pearsonr_pvalue</th>\n",
       "    </tr>\n",
       "  </thead>\n",
       "  <tbody>\n",
       "    <tr>\n",
       "      <th>0</th>\n",
       "      <td>PACLITAXEL</td>\n",
       "      <td>608</td>\n",
       "      <td>0.280668</td>\n",
       "      <td>1.808264e-12</td>\n",
       "      <td>0.295534</td>\n",
       "      <td>1.014668e-13</td>\n",
       "    </tr>\n",
       "  </tbody>\n",
       "</table>\n",
       "</div>"
      ],
      "text/plain": [
       "    drug_name  length_dataset  spearmanr_correlation  spearmanr_pvalue  \\\n",
       "0  PACLITAXEL             608               0.280668      1.808264e-12   \n",
       "\n",
       "   pearsonr_correlation  pearsonr_pvalue  \n",
       "0              0.295534     1.014668e-13  "
      ]
     },
     "execution_count": 13,
     "metadata": {},
     "output_type": "execute_result"
    }
   ],
   "source": [
    "model_PACLITAXEL.get_velodrome_results_df(AggCategoricalAnnotatedCellLineDataset(is_train=True))"
   ]
  },
  {
   "cell_type": "markdown",
   "id": "55438e88",
   "metadata": {},
   "source": [
    "### CISPLATIN"
   ]
  },
  {
   "cell_type": "code",
   "execution_count": 14,
   "id": "a11644d9",
   "metadata": {},
   "outputs": [],
   "source": [
    "best_parameters = {'ldr': 0.15650012463331223,\n",
    " 'lr': 0.453393442094326,\n",
    " 'lr1': 0.41976546999812125,\n",
    " 'lr2': 0.06498492643237114,\n",
    " 'wd': 0.0995179471731186,\n",
    " 'wd1': 0.02392115854173899,\n",
    " 'wd2': 0.06986873297691346,\n",
    " 'lam1': 0.1,\n",
    " 'bs': 45,\n",
    " 'hd': 1,\n",
    " 'epoch': 50,\n",
    " 'gpu': 0,\n",
    " 'seed': 42}"
   ]
  },
  {
   "cell_type": "code",
   "execution_count": 15,
   "id": "5956dc7d",
   "metadata": {},
   "outputs": [
    {
     "name": "stdout",
     "output_type": "stream",
     "text": [
      "\n",
      "-------------------- CISPLATIN --------------------\n",
      "Cell-line dataset for training Predictor 1: (193, 324)\n",
      "Cell-line dataset for training Predictor 2: (193, 324)\n",
      "Total no. of cell-lines for training: 386\n",
      "TCGA dataset for training both Predictors: (460, 324)\n",
      "Total no. of cell-lines for evaluation: 97\n"
     ]
    },
    {
     "name": "stderr",
     "output_type": "stream",
     "text": [
      "/home/nicole/anaconda3/envs/druid/lib/python3.9/site-packages/torch/_tensor.py:586: UserWarning: non-inplace resize is deprecated\n",
      "  warnings.warn(\"non-inplace resize is deprecated\")\n",
      "/home/nicole/code/cancer-drug-response-prediction/notebook/../src/AdaptFuncVelov3.py:159: UserWarning: Implicit dimension choice for softmax has been deprecated. Change the call to include dim=X as an argument.\n",
      "  w_n = torch.nn.functional.softmax(torch.stack(ws), dim=None)\n"
     ]
    },
    {
     "name": "stdout",
     "output_type": "stream",
     "text": [
      "Highest Pearson r achieved during training: 0.4068476594130603\n"
     ]
    }
   ],
   "source": [
    "model_CISPLATIN = VelodromeTestBedCNV('CISPLATIN')\n",
    "model_CISPLATIN.train_model(best_parameters)"
   ]
  },
  {
   "cell_type": "code",
   "execution_count": 16,
   "id": "0d975ee8",
   "metadata": {},
   "outputs": [
    {
     "name": "stderr",
     "output_type": "stream",
     "text": [
      "/home/nicole/code/cancer-drug-response-prediction/notebook/../src/VelodromeModel.py:541: UserWarning: Implicit dimension choice for softmax has been deprecated. Change the call to include dim=X as an argument.\n",
      "  w_n = torch.nn.functional.softmax(torch.stack(ws), dim=None)\n",
      "/home/nicole/code/cancer-drug-response-prediction/notebook/../src/VelodromeModel.py:545: UserWarning: To copy construct from a tensor, it is recommended to use sourceTensor.clone().detach() or sourceTensor.clone().detach().requires_grad_(True), rather than torch.tensor(sourceTensor).\n",
      "  TX_val = torch.tensor(\n"
     ]
    },
    {
     "data": {
      "text/html": [
       "<div>\n",
       "<style scoped>\n",
       "    .dataframe tbody tr th:only-of-type {\n",
       "        vertical-align: middle;\n",
       "    }\n",
       "\n",
       "    .dataframe tbody tr th {\n",
       "        vertical-align: top;\n",
       "    }\n",
       "\n",
       "    .dataframe thead th {\n",
       "        text-align: right;\n",
       "    }\n",
       "</style>\n",
       "<table border=\"1\" class=\"dataframe\">\n",
       "  <thead>\n",
       "    <tr style=\"text-align: right;\">\n",
       "      <th></th>\n",
       "      <th>drug_name</th>\n",
       "      <th>length_dataset</th>\n",
       "      <th>roc_auc</th>\n",
       "      <th>aupr</th>\n",
       "      <th>spearmanr_correlation</th>\n",
       "      <th>spearmanr_pvalue</th>\n",
       "      <th>pearsonr_correlation</th>\n",
       "      <th>pearsonr_pvalue</th>\n",
       "    </tr>\n",
       "  </thead>\n",
       "  <tbody>\n",
       "    <tr>\n",
       "      <th>0</th>\n",
       "      <td>CISPLATIN</td>\n",
       "      <td>36</td>\n",
       "      <td>0.563786</td>\n",
       "      <td>0.837077</td>\n",
       "      <td>0.095716</td>\n",
       "      <td>0.578686</td>\n",
       "      <td>0.077418</td>\n",
       "      <td>0.653583</td>\n",
       "    </tr>\n",
       "  </tbody>\n",
       "</table>\n",
       "</div>"
      ],
      "text/plain": [
       "   drug_name  length_dataset   roc_auc      aupr  spearmanr_correlation  \\\n",
       "0  CISPLATIN              36  0.563786  0.837077               0.095716   \n",
       "\n",
       "   spearmanr_pvalue  pearsonr_correlation  pearsonr_pvalue  \n",
       "0          0.578686              0.077418         0.653583  "
      ]
     },
     "execution_count": 16,
     "metadata": {},
     "output_type": "execute_result"
    }
   ],
   "source": [
    "model_CISPLATIN.get_velodrome_results_df(AggCategoricalAnnotatedTcgaDataset(is_train=False), 'tcga', True)"
   ]
  },
  {
   "cell_type": "code",
   "execution_count": 17,
   "id": "957428ca",
   "metadata": {},
   "outputs": [
    {
     "name": "stderr",
     "output_type": "stream",
     "text": [
      "/home/nicole/code/cancer-drug-response-prediction/notebook/../src/VelodromeModel.py:541: UserWarning: Implicit dimension choice for softmax has been deprecated. Change the call to include dim=X as an argument.\n",
      "  w_n = torch.nn.functional.softmax(torch.stack(ws), dim=None)\n",
      "/home/nicole/code/cancer-drug-response-prediction/notebook/../src/VelodromeModel.py:545: UserWarning: To copy construct from a tensor, it is recommended to use sourceTensor.clone().detach() or sourceTensor.clone().detach().requires_grad_(True), rather than torch.tensor(sourceTensor).\n",
      "  TX_val = torch.tensor(\n"
     ]
    },
    {
     "data": {
      "image/png": "[encoded data removed]",
      "text/plain": [
       "<Figure size 1200x600 with 2 Axes>"
      ]
     },
     "metadata": {},
     "output_type": "display_data"
    }
   ],
   "source": [
    "%matplotlib inline\n",
    "model_CISPLATIN.get_roc_pr_curves('CISPLATIN', AggCategoricalAnnotatedTcgaDataset(is_train=False))"
   ]
  },
  {
   "cell_type": "code",
   "execution_count": 18,
   "id": "7cacbcb3",
   "metadata": {},
   "outputs": [
    {
     "name": "stderr",
     "output_type": "stream",
     "text": [
      "/home/nicole/code/cancer-drug-response-prediction/notebook/../src/VelodromeModel.py:541: UserWarning: Implicit dimension choice for softmax has been deprecated. Change the call to include dim=X as an argument.\n",
      "  w_n = torch.nn.functional.softmax(torch.stack(ws), dim=None)\n",
      "/home/nicole/code/cancer-drug-response-prediction/notebook/../src/VelodromeModel.py:545: UserWarning: To copy construct from a tensor, it is recommended to use sourceTensor.clone().detach() or sourceTensor.clone().detach().requires_grad_(True), rather than torch.tensor(sourceTensor).\n",
      "  TX_val = torch.tensor(\n"
     ]
    },
    {
     "data": {
      "text/html": [
       "<div>\n",
       "<style scoped>\n",
       "    .dataframe tbody tr th:only-of-type {\n",
       "        vertical-align: middle;\n",
       "    }\n",
       "\n",
       "    .dataframe tbody tr th {\n",
       "        vertical-align: top;\n",
       "    }\n",
       "\n",
       "    .dataframe thead th {\n",
       "        text-align: right;\n",
       "    }\n",
       "</style>\n",
       "<table border=\"1\" class=\"dataframe\">\n",
       "  <thead>\n",
       "    <tr style=\"text-align: right;\">\n",
       "      <th></th>\n",
       "      <th>drug_name</th>\n",
       "      <th>length_dataset</th>\n",
       "      <th>spearmanr_correlation</th>\n",
       "      <th>spearmanr_pvalue</th>\n",
       "      <th>pearsonr_correlation</th>\n",
       "      <th>pearsonr_pvalue</th>\n",
       "    </tr>\n",
       "  </thead>\n",
       "  <tbody>\n",
       "    <tr>\n",
       "      <th>0</th>\n",
       "      <td>CISPLATIN</td>\n",
       "      <td>54</td>\n",
       "      <td>0.1336</td>\n",
       "      <td>0.335492</td>\n",
       "      <td>0.178411</td>\n",
       "      <td>0.196788</td>\n",
       "    </tr>\n",
       "  </tbody>\n",
       "</table>\n",
       "</div>"
      ],
      "text/plain": [
       "   drug_name  length_dataset  spearmanr_correlation  spearmanr_pvalue  \\\n",
       "0  CISPLATIN              54                 0.1336          0.335492   \n",
       "\n",
       "   pearsonr_correlation  pearsonr_pvalue  \n",
       "0              0.178411         0.196788  "
      ]
     },
     "execution_count": 18,
     "metadata": {},
     "output_type": "execute_result"
    }
   ],
   "source": [
    "model_CISPLATIN.get_velodrome_results_df(AggCategoricalAnnotatedCellLineDataset(is_train=False))"
   ]
  },
  {
   "cell_type": "code",
   "execution_count": 19,
   "id": "01fff61a",
   "metadata": {
    "scrolled": false
   },
   "outputs": [
    {
     "name": "stderr",
     "output_type": "stream",
     "text": [
      "/home/nicole/code/cancer-drug-response-prediction/notebook/../src/VelodromeModel.py:541: UserWarning: Implicit dimension choice for softmax has been deprecated. Change the call to include dim=X as an argument.\n",
      "  w_n = torch.nn.functional.softmax(torch.stack(ws), dim=None)\n",
      "/home/nicole/code/cancer-drug-response-prediction/notebook/../src/VelodromeModel.py:545: UserWarning: To copy construct from a tensor, it is recommended to use sourceTensor.clone().detach() or sourceTensor.clone().detach().requires_grad_(True), rather than torch.tensor(sourceTensor).\n",
      "  TX_val = torch.tensor(\n"
     ]
    },
    {
     "data": {
      "text/html": [
       "<div>\n",
       "<style scoped>\n",
       "    .dataframe tbody tr th:only-of-type {\n",
       "        vertical-align: middle;\n",
       "    }\n",
       "\n",
       "    .dataframe tbody tr th {\n",
       "        vertical-align: top;\n",
       "    }\n",
       "\n",
       "    .dataframe thead th {\n",
       "        text-align: right;\n",
       "    }\n",
       "</style>\n",
       "<table border=\"1\" class=\"dataframe\">\n",
       "  <thead>\n",
       "    <tr style=\"text-align: right;\">\n",
       "      <th></th>\n",
       "      <th>drug_name</th>\n",
       "      <th>length_dataset</th>\n",
       "      <th>spearmanr_correlation</th>\n",
       "      <th>spearmanr_pvalue</th>\n",
       "      <th>pearsonr_correlation</th>\n",
       "      <th>pearsonr_pvalue</th>\n",
       "    </tr>\n",
       "  </thead>\n",
       "  <tbody>\n",
       "    <tr>\n",
       "      <th>0</th>\n",
       "      <td>CISPLATIN</td>\n",
       "      <td>483</td>\n",
       "      <td>0.271984</td>\n",
       "      <td>1.225230e-09</td>\n",
       "      <td>0.315086</td>\n",
       "      <td>1.359503e-12</td>\n",
       "    </tr>\n",
       "  </tbody>\n",
       "</table>\n",
       "</div>"
      ],
      "text/plain": [
       "   drug_name  length_dataset  spearmanr_correlation  spearmanr_pvalue  \\\n",
       "0  CISPLATIN             483               0.271984      1.225230e-09   \n",
       "\n",
       "   pearsonr_correlation  pearsonr_pvalue  \n",
       "0              0.315086     1.359503e-12  "
      ]
     },
     "execution_count": 19,
     "metadata": {},
     "output_type": "execute_result"
    }
   ],
   "source": [
    "model_CISPLATIN.get_velodrome_results_df(AggCategoricalAnnotatedCellLineDataset(is_train=True))"
   ]
  },
  {
   "cell_type": "markdown",
   "id": "aabfa27f",
   "metadata": {},
   "source": [
    "### 5-FLUOROURACIL"
   ]
  },
  {
   "cell_type": "code",
   "execution_count": 20,
   "id": "dd6fb69b",
   "metadata": {},
   "outputs": [],
   "source": [
    "best_parameters = {'ldr': 0.3,\n",
    " 'lr': 0.005964478007917781,\n",
    " 'lr1': 0.006978465564263141,\n",
    " 'lr2': 0.004220233119840565,\n",
    " 'wd': 0.3701443944571374,\n",
    " 'wd1': 0.1613251179646269,\n",
    " 'wd2': 0.12850902960550414,\n",
    " 'lam1': 0.6,\n",
    " 'bs': 70,\n",
    " 'epoch': 35,\n",
    " 'hd': 2,\n",
    " 'gpu': 0,\n",
    " 'seed': 42,\n",
    " 'lam2': 0.4}"
   ]
  },
  {
   "cell_type": "code",
   "execution_count": 21,
   "id": "db069f9a",
   "metadata": {},
   "outputs": [
    {
     "name": "stdout",
     "output_type": "stream",
     "text": [
      "\n",
      "-------------------- 5-FLUOROURACIL --------------------\n",
      "Cell-line dataset for training Predictor 1: (211, 324)\n",
      "Cell-line dataset for training Predictor 2: (211, 324)\n",
      "Total no. of cell-lines for training: 422\n",
      "TCGA dataset for training both Predictors: (460, 324)\n",
      "Total no. of cell-lines for evaluation: 106\n"
     ]
    },
    {
     "name": "stderr",
     "output_type": "stream",
     "text": [
      "/home/nicole/anaconda3/envs/druid/lib/python3.9/site-packages/torch/_tensor.py:586: UserWarning: non-inplace resize is deprecated\n",
      "  warnings.warn(\"non-inplace resize is deprecated\")\n",
      "/home/nicole/code/cancer-drug-response-prediction/notebook/../src/AdaptFuncVelov3.py:159: UserWarning: Implicit dimension choice for softmax has been deprecated. Change the call to include dim=X as an argument.\n",
      "  w_n = torch.nn.functional.softmax(torch.stack(ws), dim=None)\n"
     ]
    },
    {
     "name": "stdout",
     "output_type": "stream",
     "text": [
      "Highest Pearson r achieved during training: 0.2639212287597147\n"
     ]
    }
   ],
   "source": [
    "model_5_FLUOROURACIL = VelodromeTestBedCNV('5-FLUOROURACIL')\n",
    "model_5_FLUOROURACIL.train_model(best_parameters)"
   ]
  },
  {
   "cell_type": "code",
   "execution_count": 22,
   "id": "83d25a72",
   "metadata": {},
   "outputs": [
    {
     "name": "stderr",
     "output_type": "stream",
     "text": [
      "/home/nicole/code/cancer-drug-response-prediction/notebook/../src/VelodromeModel.py:541: UserWarning: Implicit dimension choice for softmax has been deprecated. Change the call to include dim=X as an argument.\n",
      "  w_n = torch.nn.functional.softmax(torch.stack(ws), dim=None)\n",
      "/home/nicole/code/cancer-drug-response-prediction/notebook/../src/VelodromeModel.py:545: UserWarning: To copy construct from a tensor, it is recommended to use sourceTensor.clone().detach() or sourceTensor.clone().detach().requires_grad_(True), rather than torch.tensor(sourceTensor).\n",
      "  TX_val = torch.tensor(\n"
     ]
    },
    {
     "data": {
      "text/html": [
       "<div>\n",
       "<style scoped>\n",
       "    .dataframe tbody tr th:only-of-type {\n",
       "        vertical-align: middle;\n",
       "    }\n",
       "\n",
       "    .dataframe tbody tr th {\n",
       "        vertical-align: top;\n",
       "    }\n",
       "\n",
       "    .dataframe thead th {\n",
       "        text-align: right;\n",
       "    }\n",
       "</style>\n",
       "<table border=\"1\" class=\"dataframe\">\n",
       "  <thead>\n",
       "    <tr style=\"text-align: right;\">\n",
       "      <th></th>\n",
       "      <th>drug_name</th>\n",
       "      <th>length_dataset</th>\n",
       "      <th>roc_auc</th>\n",
       "      <th>aupr</th>\n",
       "      <th>spearmanr_correlation</th>\n",
       "      <th>spearmanr_pvalue</th>\n",
       "      <th>pearsonr_correlation</th>\n",
       "      <th>pearsonr_pvalue</th>\n",
       "    </tr>\n",
       "  </thead>\n",
       "  <tbody>\n",
       "    <tr>\n",
       "      <th>0</th>\n",
       "      <td>5-FLUOROURACIL</td>\n",
       "      <td>21</td>\n",
       "      <td>0.757353</td>\n",
       "      <td>0.944926</td>\n",
       "      <td>0.350581</td>\n",
       "      <td>0.119205</td>\n",
       "      <td>0.2116</td>\n",
       "      <td>0.357163</td>\n",
       "    </tr>\n",
       "  </tbody>\n",
       "</table>\n",
       "</div>"
      ],
      "text/plain": [
       "        drug_name  length_dataset   roc_auc      aupr  spearmanr_correlation  \\\n",
       "0  5-FLUOROURACIL              21  0.757353  0.944926               0.350581   \n",
       "\n",
       "   spearmanr_pvalue  pearsonr_correlation  pearsonr_pvalue  \n",
       "0          0.119205                0.2116         0.357163  "
      ]
     },
     "execution_count": 22,
     "metadata": {},
     "output_type": "execute_result"
    }
   ],
   "source": [
    "model_5_FLUOROURACIL.get_velodrome_results_df(AggCategoricalAnnotatedTcgaDataset(is_train=False), 'tcga', True)"
   ]
  },
  {
   "cell_type": "code",
   "execution_count": 23,
   "id": "c1389abe",
   "metadata": {},
   "outputs": [
    {
     "name": "stderr",
     "output_type": "stream",
     "text": [
      "/home/nicole/code/cancer-drug-response-prediction/notebook/../src/VelodromeModel.py:541: UserWarning: Implicit dimension choice for softmax has been deprecated. Change the call to include dim=X as an argument.\n",
      "  w_n = torch.nn.functional.softmax(torch.stack(ws), dim=None)\n",
      "/home/nicole/code/cancer-drug-response-prediction/notebook/../src/VelodromeModel.py:545: UserWarning: To copy construct from a tensor, it is recommended to use sourceTensor.clone().detach() or sourceTensor.clone().detach().requires_grad_(True), rather than torch.tensor(sourceTensor).\n",
      "  TX_val = torch.tensor(\n"
     ]
    },
    {
     "data": {
      "image/png": "[encoded data removed]",
      "text/plain": [
       "<Figure size 1200x600 with 2 Axes>"
      ]
     },
     "metadata": {},
     "output_type": "display_data"
    }
   ],
   "source": [
    "%matplotlib inline\n",
    "model_5_FLUOROURACIL.get_roc_pr_curves('5-FLUOROURACIL', AggCategoricalAnnotatedTcgaDataset(is_train=False))"
   ]
  },
  {
   "cell_type": "code",
   "execution_count": 24,
   "id": "6fce3b75",
   "metadata": {},
   "outputs": [
    {
     "name": "stderr",
     "output_type": "stream",
     "text": [
      "/home/nicole/code/cancer-drug-response-prediction/notebook/../src/VelodromeModel.py:541: UserWarning: Implicit dimension choice for softmax has been deprecated. Change the call to include dim=X as an argument.\n",
      "  w_n = torch.nn.functional.softmax(torch.stack(ws), dim=None)\n",
      "/home/nicole/code/cancer-drug-response-prediction/notebook/../src/VelodromeModel.py:545: UserWarning: To copy construct from a tensor, it is recommended to use sourceTensor.clone().detach() or sourceTensor.clone().detach().requires_grad_(True), rather than torch.tensor(sourceTensor).\n",
      "  TX_val = torch.tensor(\n"
     ]
    },
    {
     "data": {
      "text/html": [
       "<div>\n",
       "<style scoped>\n",
       "    .dataframe tbody tr th:only-of-type {\n",
       "        vertical-align: middle;\n",
       "    }\n",
       "\n",
       "    .dataframe tbody tr th {\n",
       "        vertical-align: top;\n",
       "    }\n",
       "\n",
       "    .dataframe thead th {\n",
       "        text-align: right;\n",
       "    }\n",
       "</style>\n",
       "<table border=\"1\" class=\"dataframe\">\n",
       "  <thead>\n",
       "    <tr style=\"text-align: right;\">\n",
       "      <th></th>\n",
       "      <th>drug_name</th>\n",
       "      <th>length_dataset</th>\n",
       "      <th>spearmanr_correlation</th>\n",
       "      <th>spearmanr_pvalue</th>\n",
       "      <th>pearsonr_correlation</th>\n",
       "      <th>pearsonr_pvalue</th>\n",
       "    </tr>\n",
       "  </thead>\n",
       "  <tbody>\n",
       "    <tr>\n",
       "      <th>0</th>\n",
       "      <td>5-FLUOROURACIL</td>\n",
       "      <td>61</td>\n",
       "      <td>-0.417663</td>\n",
       "      <td>0.000811</td>\n",
       "      <td>-0.300658</td>\n",
       "      <td>0.018553</td>\n",
       "    </tr>\n",
       "  </tbody>\n",
       "</table>\n",
       "</div>"
      ],
      "text/plain": [
       "        drug_name  length_dataset  spearmanr_correlation  spearmanr_pvalue  \\\n",
       "0  5-FLUOROURACIL              61              -0.417663          0.000811   \n",
       "\n",
       "   pearsonr_correlation  pearsonr_pvalue  \n",
       "0             -0.300658         0.018553  "
      ]
     },
     "execution_count": 24,
     "metadata": {},
     "output_type": "execute_result"
    }
   ],
   "source": [
    "model_5_FLUOROURACIL.get_velodrome_results_df(AggCategoricalAnnotatedCellLineDataset(is_train=False))"
   ]
  },
  {
   "cell_type": "code",
   "execution_count": 25,
   "id": "0f8f5bba",
   "metadata": {
    "scrolled": false
   },
   "outputs": [
    {
     "name": "stderr",
     "output_type": "stream",
     "text": [
      "/home/nicole/code/cancer-drug-response-prediction/notebook/../src/VelodromeModel.py:541: UserWarning: Implicit dimension choice for softmax has been deprecated. Change the call to include dim=X as an argument.\n",
      "  w_n = torch.nn.functional.softmax(torch.stack(ws), dim=None)\n",
      "/home/nicole/code/cancer-drug-response-prediction/notebook/../src/VelodromeModel.py:545: UserWarning: To copy construct from a tensor, it is recommended to use sourceTensor.clone().detach() or sourceTensor.clone().detach().requires_grad_(True), rather than torch.tensor(sourceTensor).\n",
      "  TX_val = torch.tensor(\n"
     ]
    },
    {
     "data": {
      "text/html": [
       "<div>\n",
       "<style scoped>\n",
       "    .dataframe tbody tr th:only-of-type {\n",
       "        vertical-align: middle;\n",
       "    }\n",
       "\n",
       "    .dataframe tbody tr th {\n",
       "        vertical-align: top;\n",
       "    }\n",
       "\n",
       "    .dataframe thead th {\n",
       "        text-align: right;\n",
       "    }\n",
       "</style>\n",
       "<table border=\"1\" class=\"dataframe\">\n",
       "  <thead>\n",
       "    <tr style=\"text-align: right;\">\n",
       "      <th></th>\n",
       "      <th>drug_name</th>\n",
       "      <th>length_dataset</th>\n",
       "      <th>spearmanr_correlation</th>\n",
       "      <th>spearmanr_pvalue</th>\n",
       "      <th>pearsonr_correlation</th>\n",
       "      <th>pearsonr_pvalue</th>\n",
       "    </tr>\n",
       "  </thead>\n",
       "  <tbody>\n",
       "    <tr>\n",
       "      <th>0</th>\n",
       "      <td>5-FLUOROURACIL</td>\n",
       "      <td>528</td>\n",
       "      <td>0.169665</td>\n",
       "      <td>0.000089</td>\n",
       "      <td>0.234873</td>\n",
       "      <td>4.740906e-08</td>\n",
       "    </tr>\n",
       "  </tbody>\n",
       "</table>\n",
       "</div>"
      ],
      "text/plain": [
       "        drug_name  length_dataset  spearmanr_correlation  spearmanr_pvalue  \\\n",
       "0  5-FLUOROURACIL             528               0.169665          0.000089   \n",
       "\n",
       "   pearsonr_correlation  pearsonr_pvalue  \n",
       "0              0.234873     4.740906e-08  "
      ]
     },
     "execution_count": 25,
     "metadata": {},
     "output_type": "execute_result"
    }
   ],
   "source": [
    "model_5_FLUOROURACIL.get_velodrome_results_df(AggCategoricalAnnotatedCellLineDataset(is_train=True))"
   ]
  },
  {
   "cell_type": "markdown",
   "id": "7d11764f",
   "metadata": {},
   "source": [
    "### CYCLOPHOSPHAMIDE"
   ]
  },
  {
   "cell_type": "code",
   "execution_count": 26,
   "id": "7a2ed26a",
   "metadata": {},
   "outputs": [],
   "source": [
    "best_parameters = {'ldr': 0.16929108707667775,\n",
    " 'lr': 0.09704183822787615,\n",
    " 'lr1': 0.29340544628794973,\n",
    " 'lr2': 0.46611013770951515,\n",
    " 'wd': 0.03601950676853878,\n",
    " 'wd1': 0.017236028029806283,\n",
    " 'wd2': 0.014066363577788269,\n",
    " 'lam1': 0.9,\n",
    " 'bs': 33,\n",
    " 'epoch': 52,\n",
    " 'hd': 2,\n",
    " 'gpu': 0,\n",
    " 'seed': 42}"
   ]
  },
  {
   "cell_type": "code",
   "execution_count": 27,
   "id": "31af068a",
   "metadata": {},
   "outputs": [
    {
     "name": "stdout",
     "output_type": "stream",
     "text": [
      "\n",
      "-------------------- CYCLOPHOSPHAMIDE --------------------\n",
      "Cell-line dataset for training Predictor 1: (231, 324)\n",
      "Cell-line dataset for training Predictor 2: (232, 324)\n",
      "Total no. of cell-lines for training: 463\n",
      "TCGA dataset for training both Predictors: (460, 324)\n",
      "Total no. of cell-lines for evaluation: 116\n"
     ]
    },
    {
     "name": "stderr",
     "output_type": "stream",
     "text": [
      "/home/nicole/anaconda3/envs/druid/lib/python3.9/site-packages/torch/_tensor.py:586: UserWarning: non-inplace resize is deprecated\n",
      "  warnings.warn(\"non-inplace resize is deprecated\")\n",
      "/home/nicole/code/cancer-drug-response-prediction/notebook/../src/AdaptFuncVelov3.py:159: UserWarning: Implicit dimension choice for softmax has been deprecated. Change the call to include dim=X as an argument.\n",
      "  w_n = torch.nn.functional.softmax(torch.stack(ws), dim=None)\n"
     ]
    },
    {
     "name": "stdout",
     "output_type": "stream",
     "text": [
      "Highest Pearson r achieved during training: 0.2635409209666957\n"
     ]
    }
   ],
   "source": [
    "model_CYCLOPHOSPHAMIDE = VelodromeTestBedCNV('CYCLOPHOSPHAMIDE')\n",
    "model_CYCLOPHOSPHAMIDE.train_model(best_parameters)"
   ]
  },
  {
   "cell_type": "code",
   "execution_count": 28,
   "id": "0628c127",
   "metadata": {},
   "outputs": [
    {
     "name": "stderr",
     "output_type": "stream",
     "text": [
      "/home/nicole/code/cancer-drug-response-prediction/notebook/../src/VelodromeModel.py:541: UserWarning: Implicit dimension choice for softmax has been deprecated. Change the call to include dim=X as an argument.\n",
      "  w_n = torch.nn.functional.softmax(torch.stack(ws), dim=None)\n",
      "/home/nicole/code/cancer-drug-response-prediction/notebook/../src/VelodromeModel.py:545: UserWarning: To copy construct from a tensor, it is recommended to use sourceTensor.clone().detach() or sourceTensor.clone().detach().requires_grad_(True), rather than torch.tensor(sourceTensor).\n",
      "  TX_val = torch.tensor(\n"
     ]
    },
    {
     "data": {
      "text/html": [
       "<div>\n",
       "<style scoped>\n",
       "    .dataframe tbody tr th:only-of-type {\n",
       "        vertical-align: middle;\n",
       "    }\n",
       "\n",
       "    .dataframe tbody tr th {\n",
       "        vertical-align: top;\n",
       "    }\n",
       "\n",
       "    .dataframe thead th {\n",
       "        text-align: right;\n",
       "    }\n",
       "</style>\n",
       "<table border=\"1\" class=\"dataframe\">\n",
       "  <thead>\n",
       "    <tr style=\"text-align: right;\">\n",
       "      <th></th>\n",
       "      <th>drug_name</th>\n",
       "      <th>length_dataset</th>\n",
       "      <th>roc_auc</th>\n",
       "      <th>aupr</th>\n",
       "      <th>spearmanr_correlation</th>\n",
       "      <th>spearmanr_pvalue</th>\n",
       "      <th>pearsonr_correlation</th>\n",
       "      <th>pearsonr_pvalue</th>\n",
       "    </tr>\n",
       "  </thead>\n",
       "  <tbody>\n",
       "    <tr>\n",
       "      <th>0</th>\n",
       "      <td>CYCLOPHOSPHAMIDE</td>\n",
       "      <td>19</td>\n",
       "      <td>0.705882</td>\n",
       "      <td>0.962802</td>\n",
       "      <td>0.219179</td>\n",
       "      <td>0.367296</td>\n",
       "      <td>0.17785</td>\n",
       "      <td>0.466344</td>\n",
       "    </tr>\n",
       "  </tbody>\n",
       "</table>\n",
       "</div>"
      ],
      "text/plain": [
       "          drug_name  length_dataset   roc_auc      aupr  \\\n",
       "0  CYCLOPHOSPHAMIDE              19  0.705882  0.962802   \n",
       "\n",
       "   spearmanr_correlation  spearmanr_pvalue  pearsonr_correlation  \\\n",
       "0               0.219179          0.367296               0.17785   \n",
       "\n",
       "   pearsonr_pvalue  \n",
       "0         0.466344  "
      ]
     },
     "execution_count": 28,
     "metadata": {},
     "output_type": "execute_result"
    }
   ],
   "source": [
    "model_CYCLOPHOSPHAMIDE.get_velodrome_results_df(AggCategoricalAnnotatedTcgaDataset(is_train=False), 'tcga', True)"
   ]
  },
  {
   "cell_type": "code",
   "execution_count": 29,
   "id": "126d9277",
   "metadata": {},
   "outputs": [
    {
     "name": "stderr",
     "output_type": "stream",
     "text": [
      "/home/nicole/code/cancer-drug-response-prediction/notebook/../src/VelodromeModel.py:541: UserWarning: Implicit dimension choice for softmax has been deprecated. Change the call to include dim=X as an argument.\n",
      "  w_n = torch.nn.functional.softmax(torch.stack(ws), dim=None)\n",
      "/home/nicole/code/cancer-drug-response-prediction/notebook/../src/VelodromeModel.py:545: UserWarning: To copy construct from a tensor, it is recommended to use sourceTensor.clone().detach() or sourceTensor.clone().detach().requires_grad_(True), rather than torch.tensor(sourceTensor).\n",
      "  TX_val = torch.tensor(\n"
     ]
    },
    {
     "data": {
      "image/png": "[encoded data removed]",
      "text/plain": [
       "<Figure size 1200x600 with 2 Axes>"
      ]
     },
     "metadata": {},
     "output_type": "display_data"
    }
   ],
   "source": [
    "%matplotlib inline\n",
    "model_CYCLOPHOSPHAMIDE.get_roc_pr_curves('CYCLOPHOSPHAMIDE', AggCategoricalAnnotatedTcgaDataset(is_train=False))"
   ]
  },
  {
   "cell_type": "code",
   "execution_count": 30,
   "id": "8748dad4",
   "metadata": {},
   "outputs": [
    {
     "name": "stderr",
     "output_type": "stream",
     "text": [
      "/home/nicole/code/cancer-drug-response-prediction/notebook/../src/VelodromeModel.py:541: UserWarning: Implicit dimension choice for softmax has been deprecated. Change the call to include dim=X as an argument.\n",
      "  w_n = torch.nn.functional.softmax(torch.stack(ws), dim=None)\n",
      "/home/nicole/code/cancer-drug-response-prediction/notebook/../src/VelodromeModel.py:545: UserWarning: To copy construct from a tensor, it is recommended to use sourceTensor.clone().detach() or sourceTensor.clone().detach().requires_grad_(True), rather than torch.tensor(sourceTensor).\n",
      "  TX_val = torch.tensor(\n"
     ]
    },
    {
     "data": {
      "text/html": [
       "<div>\n",
       "<style scoped>\n",
       "    .dataframe tbody tr th:only-of-type {\n",
       "        vertical-align: middle;\n",
       "    }\n",
       "\n",
       "    .dataframe tbody tr th {\n",
       "        vertical-align: top;\n",
       "    }\n",
       "\n",
       "    .dataframe thead th {\n",
       "        text-align: right;\n",
       "    }\n",
       "</style>\n",
       "<table border=\"1\" class=\"dataframe\">\n",
       "  <thead>\n",
       "    <tr style=\"text-align: right;\">\n",
       "      <th></th>\n",
       "      <th>drug_name</th>\n",
       "      <th>length_dataset</th>\n",
       "      <th>spearmanr_correlation</th>\n",
       "      <th>spearmanr_pvalue</th>\n",
       "      <th>pearsonr_correlation</th>\n",
       "      <th>pearsonr_pvalue</th>\n",
       "    </tr>\n",
       "  </thead>\n",
       "  <tbody>\n",
       "    <tr>\n",
       "      <th>0</th>\n",
       "      <td>CYCLOPHOSPHAMIDE</td>\n",
       "      <td>66</td>\n",
       "      <td>0.317775</td>\n",
       "      <td>0.009321</td>\n",
       "      <td>0.410342</td>\n",
       "      <td>0.000622</td>\n",
       "    </tr>\n",
       "  </tbody>\n",
       "</table>\n",
       "</div>"
      ],
      "text/plain": [
       "          drug_name  length_dataset  spearmanr_correlation  spearmanr_pvalue  \\\n",
       "0  CYCLOPHOSPHAMIDE              66               0.317775          0.009321   \n",
       "\n",
       "   pearsonr_correlation  pearsonr_pvalue  \n",
       "0              0.410342         0.000622  "
      ]
     },
     "execution_count": 30,
     "metadata": {},
     "output_type": "execute_result"
    }
   ],
   "source": [
    "model_CYCLOPHOSPHAMIDE.get_velodrome_results_df(AggCategoricalAnnotatedCellLineDataset(is_train=False))"
   ]
  },
  {
   "cell_type": "code",
   "execution_count": 31,
   "id": "8c1b4a18",
   "metadata": {
    "scrolled": true
   },
   "outputs": [
    {
     "name": "stderr",
     "output_type": "stream",
     "text": [
      "/home/nicole/code/cancer-drug-response-prediction/notebook/../src/VelodromeModel.py:541: UserWarning: Implicit dimension choice for softmax has been deprecated. Change the call to include dim=X as an argument.\n",
      "  w_n = torch.nn.functional.softmax(torch.stack(ws), dim=None)\n",
      "/home/nicole/code/cancer-drug-response-prediction/notebook/../src/VelodromeModel.py:545: UserWarning: To copy construct from a tensor, it is recommended to use sourceTensor.clone().detach() or sourceTensor.clone().detach().requires_grad_(True), rather than torch.tensor(sourceTensor).\n",
      "  TX_val = torch.tensor(\n"
     ]
    },
    {
     "data": {
      "text/html": [
       "<div>\n",
       "<style scoped>\n",
       "    .dataframe tbody tr th:only-of-type {\n",
       "        vertical-align: middle;\n",
       "    }\n",
       "\n",
       "    .dataframe tbody tr th {\n",
       "        vertical-align: top;\n",
       "    }\n",
       "\n",
       "    .dataframe thead th {\n",
       "        text-align: right;\n",
       "    }\n",
       "</style>\n",
       "<table border=\"1\" class=\"dataframe\">\n",
       "  <thead>\n",
       "    <tr style=\"text-align: right;\">\n",
       "      <th></th>\n",
       "      <th>drug_name</th>\n",
       "      <th>length_dataset</th>\n",
       "      <th>spearmanr_correlation</th>\n",
       "      <th>spearmanr_pvalue</th>\n",
       "      <th>pearsonr_correlation</th>\n",
       "      <th>pearsonr_pvalue</th>\n",
       "    </tr>\n",
       "  </thead>\n",
       "  <tbody>\n",
       "    <tr>\n",
       "      <th>0</th>\n",
       "      <td>CYCLOPHOSPHAMIDE</td>\n",
       "      <td>579</td>\n",
       "      <td>0.165963</td>\n",
       "      <td>0.00006</td>\n",
       "      <td>0.268184</td>\n",
       "      <td>5.390191e-11</td>\n",
       "    </tr>\n",
       "  </tbody>\n",
       "</table>\n",
       "</div>"
      ],
      "text/plain": [
       "          drug_name  length_dataset  spearmanr_correlation  spearmanr_pvalue  \\\n",
       "0  CYCLOPHOSPHAMIDE             579               0.165963           0.00006   \n",
       "\n",
       "   pearsonr_correlation  pearsonr_pvalue  \n",
       "0              0.268184     5.390191e-11  "
      ]
     },
     "execution_count": 31,
     "metadata": {},
     "output_type": "execute_result"
    }
   ],
   "source": [
    "model_CYCLOPHOSPHAMIDE.get_velodrome_results_df(AggCategoricalAnnotatedCellLineDataset(is_train=True))"
   ]
  },
  {
   "cell_type": "markdown",
   "id": "4e5f6af7",
   "metadata": {},
   "source": [
    "### GEMCITABINE"
   ]
  },
  {
   "cell_type": "code",
   "execution_count": 32,
   "id": "e6e4b717",
   "metadata": {},
   "outputs": [],
   "source": [
    "best_parameters = {'ldr': 0.03949838689994067,\n",
    " 'lr': 0.2126072407886386,\n",
    " 'lr1': 0.1925605489294976,\n",
    " 'lr2': 0.010377388941124083,\n",
    " 'wd': 0.0361973168194294,\n",
    " 'wd1': 0.0730298561597243,\n",
    " 'wd2': 0.05558472497081385,\n",
    " 'lam1': 0.2,\n",
    " 'bs': 59,\n",
    " 'epoch': 84,\n",
    " 'hd': 2,\n",
    " 'gpu': 0,\n",
    " 'seed': 42}"
   ]
  },
  {
   "cell_type": "code",
   "execution_count": 33,
   "id": "17c6ef72",
   "metadata": {},
   "outputs": [
    {
     "name": "stdout",
     "output_type": "stream",
     "text": [
      "\n",
      "-------------------- GEMCITABINE --------------------\n",
      "Cell-line dataset for training Predictor 1: (193, 324)\n",
      "Cell-line dataset for training Predictor 2: (193, 324)\n",
      "Total no. of cell-lines for training: 386\n",
      "TCGA dataset for training both Predictors: (460, 324)\n",
      "Total no. of cell-lines for evaluation: 97\n"
     ]
    },
    {
     "name": "stderr",
     "output_type": "stream",
     "text": [
      "/home/nicole/anaconda3/envs/druid/lib/python3.9/site-packages/torch/_tensor.py:586: UserWarning: non-inplace resize is deprecated\n",
      "  warnings.warn(\"non-inplace resize is deprecated\")\n",
      "/home/nicole/code/cancer-drug-response-prediction/notebook/../src/AdaptFuncVelov3.py:159: UserWarning: Implicit dimension choice for softmax has been deprecated. Change the call to include dim=X as an argument.\n",
      "  w_n = torch.nn.functional.softmax(torch.stack(ws), dim=None)\n"
     ]
    },
    {
     "name": "stdout",
     "output_type": "stream",
     "text": [
      "Highest Pearson r achieved during training: 0.38758374770449816\n"
     ]
    }
   ],
   "source": [
    "model_GEMCITABINE = VelodromeTestBedCNV('GEMCITABINE')\n",
    "model_GEMCITABINE.train_model(best_parameters)"
   ]
  },
  {
   "cell_type": "code",
   "execution_count": 34,
   "id": "10d7a27a",
   "metadata": {},
   "outputs": [
    {
     "name": "stderr",
     "output_type": "stream",
     "text": [
      "/home/nicole/code/cancer-drug-response-prediction/notebook/../src/VelodromeModel.py:541: UserWarning: Implicit dimension choice for softmax has been deprecated. Change the call to include dim=X as an argument.\n",
      "  w_n = torch.nn.functional.softmax(torch.stack(ws), dim=None)\n",
      "/home/nicole/code/cancer-drug-response-prediction/notebook/../src/VelodromeModel.py:545: UserWarning: To copy construct from a tensor, it is recommended to use sourceTensor.clone().detach() or sourceTensor.clone().detach().requires_grad_(True), rather than torch.tensor(sourceTensor).\n",
      "  TX_val = torch.tensor(\n"
     ]
    },
    {
     "data": {
      "text/html": [
       "<div>\n",
       "<style scoped>\n",
       "    .dataframe tbody tr th:only-of-type {\n",
       "        vertical-align: middle;\n",
       "    }\n",
       "\n",
       "    .dataframe tbody tr th {\n",
       "        vertical-align: top;\n",
       "    }\n",
       "\n",
       "    .dataframe thead th {\n",
       "        text-align: right;\n",
       "    }\n",
       "</style>\n",
       "<table border=\"1\" class=\"dataframe\">\n",
       "  <thead>\n",
       "    <tr style=\"text-align: right;\">\n",
       "      <th></th>\n",
       "      <th>drug_name</th>\n",
       "      <th>length_dataset</th>\n",
       "      <th>roc_auc</th>\n",
       "      <th>aupr</th>\n",
       "      <th>spearmanr_correlation</th>\n",
       "      <th>spearmanr_pvalue</th>\n",
       "      <th>pearsonr_correlation</th>\n",
       "      <th>pearsonr_pvalue</th>\n",
       "    </tr>\n",
       "  </thead>\n",
       "  <tbody>\n",
       "    <tr>\n",
       "      <th>0</th>\n",
       "      <td>GEMCITABINE</td>\n",
       "      <td>18</td>\n",
       "      <td>0.728395</td>\n",
       "      <td>0.801782</td>\n",
       "      <td>0.396204</td>\n",
       "      <td>0.10359</td>\n",
       "      <td>0.308385</td>\n",
       "      <td>0.213111</td>\n",
       "    </tr>\n",
       "  </tbody>\n",
       "</table>\n",
       "</div>"
      ],
      "text/plain": [
       "     drug_name  length_dataset   roc_auc      aupr  spearmanr_correlation  \\\n",
       "0  GEMCITABINE              18  0.728395  0.801782               0.396204   \n",
       "\n",
       "   spearmanr_pvalue  pearsonr_correlation  pearsonr_pvalue  \n",
       "0           0.10359              0.308385         0.213111  "
      ]
     },
     "execution_count": 34,
     "metadata": {},
     "output_type": "execute_result"
    }
   ],
   "source": [
    "model_GEMCITABINE.get_velodrome_results_df(AggCategoricalAnnotatedTcgaDataset(is_train=False), 'tcga', True)"
   ]
  },
  {
   "cell_type": "code",
   "execution_count": 35,
   "id": "01d5514b",
   "metadata": {},
   "outputs": [
    {
     "name": "stderr",
     "output_type": "stream",
     "text": [
      "/home/nicole/code/cancer-drug-response-prediction/notebook/../src/VelodromeModel.py:541: UserWarning: Implicit dimension choice for softmax has been deprecated. Change the call to include dim=X as an argument.\n",
      "  w_n = torch.nn.functional.softmax(torch.stack(ws), dim=None)\n",
      "/home/nicole/code/cancer-drug-response-prediction/notebook/../src/VelodromeModel.py:545: UserWarning: To copy construct from a tensor, it is recommended to use sourceTensor.clone().detach() or sourceTensor.clone().detach().requires_grad_(True), rather than torch.tensor(sourceTensor).\n",
      "  TX_val = torch.tensor(\n"
     ]
    },
    {
     "data": {
      "image/png": "[encoded data removed]",
      "text/plain": [
       "<Figure size 1200x600 with 2 Axes>"
      ]
     },
     "metadata": {},
     "output_type": "display_data"
    }
   ],
   "source": [
    "%matplotlib inline\n",
    "model_GEMCITABINE.get_roc_pr_curves('GEMCITABINE', AggCategoricalAnnotatedTcgaDataset(is_train=False))"
   ]
  },
  {
   "cell_type": "code",
   "execution_count": 36,
   "id": "e932969a",
   "metadata": {},
   "outputs": [
    {
     "name": "stderr",
     "output_type": "stream",
     "text": [
      "/home/nicole/code/cancer-drug-response-prediction/notebook/../src/VelodromeModel.py:541: UserWarning: Implicit dimension choice for softmax has been deprecated. Change the call to include dim=X as an argument.\n",
      "  w_n = torch.nn.functional.softmax(torch.stack(ws), dim=None)\n",
      "/home/nicole/code/cancer-drug-response-prediction/notebook/../src/VelodromeModel.py:545: UserWarning: To copy construct from a tensor, it is recommended to use sourceTensor.clone().detach() or sourceTensor.clone().detach().requires_grad_(True), rather than torch.tensor(sourceTensor).\n",
      "  TX_val = torch.tensor(\n"
     ]
    },
    {
     "data": {
      "text/html": [
       "<div>\n",
       "<style scoped>\n",
       "    .dataframe tbody tr th:only-of-type {\n",
       "        vertical-align: middle;\n",
       "    }\n",
       "\n",
       "    .dataframe tbody tr th {\n",
       "        vertical-align: top;\n",
       "    }\n",
       "\n",
       "    .dataframe thead th {\n",
       "        text-align: right;\n",
       "    }\n",
       "</style>\n",
       "<table border=\"1\" class=\"dataframe\">\n",
       "  <thead>\n",
       "    <tr style=\"text-align: right;\">\n",
       "      <th></th>\n",
       "      <th>drug_name</th>\n",
       "      <th>length_dataset</th>\n",
       "      <th>spearmanr_correlation</th>\n",
       "      <th>spearmanr_pvalue</th>\n",
       "      <th>pearsonr_correlation</th>\n",
       "      <th>pearsonr_pvalue</th>\n",
       "    </tr>\n",
       "  </thead>\n",
       "  <tbody>\n",
       "    <tr>\n",
       "      <th>0</th>\n",
       "      <td>GEMCITABINE</td>\n",
       "      <td>54</td>\n",
       "      <td>0.132914</td>\n",
       "      <td>0.338002</td>\n",
       "      <td>0.153341</td>\n",
       "      <td>0.268285</td>\n",
       "    </tr>\n",
       "  </tbody>\n",
       "</table>\n",
       "</div>"
      ],
      "text/plain": [
       "     drug_name  length_dataset  spearmanr_correlation  spearmanr_pvalue  \\\n",
       "0  GEMCITABINE              54               0.132914          0.338002   \n",
       "\n",
       "   pearsonr_correlation  pearsonr_pvalue  \n",
       "0              0.153341         0.268285  "
      ]
     },
     "execution_count": 36,
     "metadata": {},
     "output_type": "execute_result"
    }
   ],
   "source": [
    "model_GEMCITABINE.get_velodrome_results_df(AggCategoricalAnnotatedCellLineDataset(is_train=False))"
   ]
  },
  {
   "cell_type": "code",
   "execution_count": 37,
   "id": "8c2d8dca",
   "metadata": {
    "scrolled": true
   },
   "outputs": [
    {
     "name": "stderr",
     "output_type": "stream",
     "text": [
      "/home/nicole/code/cancer-drug-response-prediction/notebook/../src/VelodromeModel.py:541: UserWarning: Implicit dimension choice for softmax has been deprecated. Change the call to include dim=X as an argument.\n",
      "  w_n = torch.nn.functional.softmax(torch.stack(ws), dim=None)\n",
      "/home/nicole/code/cancer-drug-response-prediction/notebook/../src/VelodromeModel.py:545: UserWarning: To copy construct from a tensor, it is recommended to use sourceTensor.clone().detach() or sourceTensor.clone().detach().requires_grad_(True), rather than torch.tensor(sourceTensor).\n",
      "  TX_val = torch.tensor(\n"
     ]
    },
    {
     "data": {
      "text/html": [
       "<div>\n",
       "<style scoped>\n",
       "    .dataframe tbody tr th:only-of-type {\n",
       "        vertical-align: middle;\n",
       "    }\n",
       "\n",
       "    .dataframe tbody tr th {\n",
       "        vertical-align: top;\n",
       "    }\n",
       "\n",
       "    .dataframe thead th {\n",
       "        text-align: right;\n",
       "    }\n",
       "</style>\n",
       "<table border=\"1\" class=\"dataframe\">\n",
       "  <thead>\n",
       "    <tr style=\"text-align: right;\">\n",
       "      <th></th>\n",
       "      <th>drug_name</th>\n",
       "      <th>length_dataset</th>\n",
       "      <th>spearmanr_correlation</th>\n",
       "      <th>spearmanr_pvalue</th>\n",
       "      <th>pearsonr_correlation</th>\n",
       "      <th>pearsonr_pvalue</th>\n",
       "    </tr>\n",
       "  </thead>\n",
       "  <tbody>\n",
       "    <tr>\n",
       "      <th>0</th>\n",
       "      <td>GEMCITABINE</td>\n",
       "      <td>483</td>\n",
       "      <td>0.238871</td>\n",
       "      <td>1.076960e-07</td>\n",
       "      <td>0.17744</td>\n",
       "      <td>0.000088</td>\n",
       "    </tr>\n",
       "  </tbody>\n",
       "</table>\n",
       "</div>"
      ],
      "text/plain": [
       "     drug_name  length_dataset  spearmanr_correlation  spearmanr_pvalue  \\\n",
       "0  GEMCITABINE             483               0.238871      1.076960e-07   \n",
       "\n",
       "   pearsonr_correlation  pearsonr_pvalue  \n",
       "0               0.17744         0.000088  "
      ]
     },
     "execution_count": 37,
     "metadata": {},
     "output_type": "execute_result"
    }
   ],
   "source": [
    "model_GEMCITABINE.get_velodrome_results_df(AggCategoricalAnnotatedCellLineDataset(is_train=True))"
   ]
  }
 ],
 "metadata": {
  "kernelspec": {
   "display_name": "Python 3 (ipykernel)",
   "language": "python",
   "name": "python3"
  },
  "language_info": {
   "codemirror_mode": {
    "name": "ipython",
    "version": 3
   },
   "file_extension": ".py",
   "mimetype": "text/x-python",
   "name": "python",
   "nbconvert_exporter": "python",
   "pygments_lexer": "ipython3",
   "version": "3.9.12"
  }
 },
 "nbformat": 4,
 "nbformat_minor": 5
}
